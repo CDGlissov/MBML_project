{
 "cells": [
  {
   "cell_type": "code",
   "execution_count": 1,
   "metadata": {},
   "outputs": [],
   "source": [
    "import numpy as np\n",
    "import pandas as pd\n",
    "import matplotlib.pyplot as plt\n",
    "import seaborn as sns\n",
    "sns.set_style(\"whitegrid\")\n",
    "\n",
    "from src.data.make_dataset import df"
   ]
  },
  {
   "cell_type": "code",
   "execution_count": 2,
   "metadata": {},
   "outputs": [
    {
     "output_type": "execute_result",
     "data": {
      "text/plain": "                 Starttid                 Sluttid                   Navn  \\\n0 2009-10-06 12:00:32.623 2009-10-06 12:02:08.360  Niels Helveg Petersen   \n1 2009-10-06 12:02:08.360 2009-10-06 12:04:01.713                   None   \n2 2009-10-06 12:04:01.713 2009-10-06 12:11:14.713   Lars Løkke Rasmussen   \n3 2009-10-06 12:11:14.713 2009-10-06 12:14:49.713   Lars Løkke Rasmussen   \n4 2009-10-06 12:14:49.713 2009-10-06 12:19:47.713   Lars Løkke Rasmussen   \n\n             Rolle                                              Tekst  \\\n0  aldersformanden  Mødet er åbnet.I henhold til grundloven er Fol...   \n1          formand  Jeg vil gerne takke for den tillid, som Tinget...   \n2         minister  Danmark er et godt land at leve i. Vi har bygg...   \n3         minister  Det er ikke den eneste mulighed, vi skal gribe...   \n4         minister  For det første – og helt afgørende: Vi skal ho...   \n\n  Dagsordenpunkt Parti  \n0        Punkt 0   NaN  \n1        Punkt 0   NaN  \n2        Punkt 0   NaN  \n3        Punkt 0   NaN  \n4        Punkt 0   NaN  ",
      "text/html": "<div>\n<style scoped>\n    .dataframe tbody tr th:only-of-type {\n        vertical-align: middle;\n    }\n\n    .dataframe tbody tr th {\n        vertical-align: top;\n    }\n\n    .dataframe thead th {\n        text-align: right;\n    }\n</style>\n<table border=\"1\" class=\"dataframe\">\n  <thead>\n    <tr style=\"text-align: right;\">\n      <th></th>\n      <th>Starttid</th>\n      <th>Sluttid</th>\n      <th>Navn</th>\n      <th>Rolle</th>\n      <th>Tekst</th>\n      <th>Dagsordenpunkt</th>\n      <th>Parti</th>\n    </tr>\n  </thead>\n  <tbody>\n    <tr>\n      <th>0</th>\n      <td>2009-10-06 12:00:32.623</td>\n      <td>2009-10-06 12:02:08.360</td>\n      <td>Niels Helveg Petersen</td>\n      <td>aldersformanden</td>\n      <td>Mødet er åbnet.I henhold til grundloven er Fol...</td>\n      <td>Punkt 0</td>\n      <td>NaN</td>\n    </tr>\n    <tr>\n      <th>1</th>\n      <td>2009-10-06 12:02:08.360</td>\n      <td>2009-10-06 12:04:01.713</td>\n      <td>None</td>\n      <td>formand</td>\n      <td>Jeg vil gerne takke for den tillid, som Tinget...</td>\n      <td>Punkt 0</td>\n      <td>NaN</td>\n    </tr>\n    <tr>\n      <th>2</th>\n      <td>2009-10-06 12:04:01.713</td>\n      <td>2009-10-06 12:11:14.713</td>\n      <td>Lars Løkke Rasmussen</td>\n      <td>minister</td>\n      <td>Danmark er et godt land at leve i. Vi har bygg...</td>\n      <td>Punkt 0</td>\n      <td>NaN</td>\n    </tr>\n    <tr>\n      <th>3</th>\n      <td>2009-10-06 12:11:14.713</td>\n      <td>2009-10-06 12:14:49.713</td>\n      <td>Lars Løkke Rasmussen</td>\n      <td>minister</td>\n      <td>Det er ikke den eneste mulighed, vi skal gribe...</td>\n      <td>Punkt 0</td>\n      <td>NaN</td>\n    </tr>\n    <tr>\n      <th>4</th>\n      <td>2009-10-06 12:14:49.713</td>\n      <td>2009-10-06 12:19:47.713</td>\n      <td>Lars Løkke Rasmussen</td>\n      <td>minister</td>\n      <td>For det første – og helt afgørende: Vi skal ho...</td>\n      <td>Punkt 0</td>\n      <td>NaN</td>\n    </tr>\n  </tbody>\n</table>\n</div>"
     },
     "metadata": {},
     "execution_count": 2
    }
   ],
   "source": [
    "df.head()"
   ]
  },
  {
   "cell_type": "code",
   "execution_count": 10,
   "metadata": {},
   "outputs": [],
   "source": [
    "feature_word = [word for word, count in sorted(vocabulary.items(), key = lambda kv:(kv[1], kv[0]))]"
   ]
  },
  {
   "cell_type": "code",
   "execution_count": 3,
   "metadata": {},
   "outputs": [
    {
     "data": {
      "text/plain": [
       "<160444x23574 sparse matrix of type '<class 'numpy.int64'>'\n",
       "\twith 9014135 stored elements in Compressed Sparse Row format>"
      ]
     },
     "execution_count": 3,
     "metadata": {},
     "output_type": "execute_result"
    }
   ],
   "source": [
    "X"
   ]
  },
  {
   "cell_type": "code",
   "execution_count": null,
   "metadata": {},
   "outputs": [],
   "source": []
  }
 ],
 "metadata": {
  "file_extension": ".py",
  "kernelspec": {
   "display_name": "Python 3.8.2 64-bit ('mbml': conda)",
   "language": "python",
   "name": "python38264bitmbmlcondaa4b050706db042628668a68cbbd77dd1"
  },
  "language_info": {
   "codemirror_mode": {
    "name": "ipython",
    "version": 3
   },
   "file_extension": ".py",
   "mimetype": "text/x-python",
   "name": "python",
   "nbconvert_exporter": "python",
   "pygments_lexer": "ipython3",
   "version": "3.8.2-final"
  },
  "mimetype": "text/x-python",
  "name": "python",
  "npconvert_exporter": "python",
  "pygments_lexer": "ipython3",
  "version": 3
 },
 "nbformat": 4,
 "nbformat_minor": 4
}
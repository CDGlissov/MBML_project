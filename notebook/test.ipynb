{
 "cells": [
  {
   "cell_type": "code",
   "execution_count": 1,
   "metadata": {},
   "outputs": [],
   "source": [
    "import numpy as np\n",
    "import pandas as pd\n",
    "import matplotlib.pyplot as plt\n",
    "import seaborn as sns\n",
    "sns.set_style(\"whitegrid\")\n",
    "\n",
    "import scipy\n",
    "from scipy import stats\n",
    "\n",
    "from src.features.build_features import df, X, X_tfidf,vocabulary"
   ]
  },
  {
   "cell_type": "code",
   "execution_count": 63,
   "metadata": {},
   "outputs": [
    {
     "output_type": "execute_result",
     "data": {
      "text/plain": "array([0, 0, 0, ..., 0, 0, 0])"
     },
     "metadata": {},
     "execution_count": 63
    }
   ],
   "source": []
  },
  {
   "cell_type": "code",
   "execution_count": 68,
   "metadata": {},
   "outputs": [
    {
     "output_type": "execute_result",
     "data": {
      "text/plain": "482544"
     },
     "metadata": {},
     "execution_count": 68
    }
   ],
   "source": [
    "tmp = np.asarray(X.sum(axis=0)).reshape(-1)*np.asarray(X[0,:].todense()).reshape(-1)\n"
   ]
  },
  {
   "cell_type": "code",
   "execution_count": 52,
   "metadata": {},
   "outputs": [
    {
     "output_type": "execute_result",
     "data": {
      "text/plain": "array(<1x24976 sparse matrix of type '<class 'numpy.int64'>'\n\twith 91 stored elements in Compressed Sparse Row format>, dtype=object)"
     },
     "metadata": {},
     "execution_count": 52
    }
   ],
   "source": []
  },
  {
   "cell_type": "code",
   "execution_count": 112,
   "metadata": {},
   "outputs": [
    {
     "output_type": "execute_result",
     "data": {
      "text/plain": "(array([   15,   211,   246,   827,  1026,  1388,  1998,  2148,  2202,\n         2485,  3371,  3449,  3489,  3861,  3953,  4526,  4648,  4682,\n         5706,  5785,  6294,  6326,  6335,  6550,  6744,  7234,  7553,\n         7572,  7636,  7637,  8114,  8244,  8382,  8383,  9217,  9251,\n         9845,  9921, 10211, 10480, 10602, 11026, 11092, 11236, 11702,\n        11742, 11769, 11937, 12567, 13244, 14131, 14323, 14461, 15208,\n        15235, 15776, 15936, 16127, 16230, 17123, 17341, 17926, 18259,\n        18277, 18332, 18645, 18670, 18711, 18714, 18912, 19141, 19545,\n        19632, 20496, 20514, 20844, 20937, 21228, 21232, 21544, 22078,\n        22379, 22466, 22494, 22747, 22879, 23144, 23326, 23342, 24031,\n        24471]),)"
     },
     "metadata": {},
     "execution_count": 112
    }
   ],
   "source": [
    "tmp2 = tmp/tmp.sum()\n",
    "np.where(tmp2 > 0)"
   ]
  },
  {
   "cell_type": "code",
   "execution_count": 114,
   "metadata": {},
   "outputs": [
    {
     "output_type": "execute_result",
     "data": {
      "text/plain": "array([0.09563066, 0.07643241, 0.05271022, ..., 0.        , 0.        ,\n       0.        ])"
     },
     "metadata": {},
     "execution_count": 114
    }
   ],
   "source": [
    "np.sort(tmp2)[::-1]"
   ]
  },
  {
   "cell_type": "code",
   "execution_count": 115,
   "metadata": {},
   "outputs": [
    {
     "output_type": "execute_result",
     "data": {
      "text/plain": "array([ 8382, 23326,  3489, ..., 16637, 16638,     0])"
     },
     "metadata": {},
     "execution_count": 115
    }
   ],
   "source": [
    "np.argsort(tmp2)[::-1]"
   ]
  },
  {
   "cell_type": "code",
   "execution_count": 117,
   "metadata": {},
   "outputs": [
    {
     "output_type": "execute_result",
     "data": {
      "text/plain": "'ung'"
     },
     "metadata": {},
     "execution_count": 117
    }
   ],
   "source": [
    "id2word = {v:k for v, k in sorted((value, key) for (key,value) in vocabulary.items())}\n",
    "id2word.get(23326)"
   ]
  },
  {
   "cell_type": "code",
   "execution_count": 90,
   "metadata": {},
   "outputs": [
    {
     "output_type": "execute_result",
     "data": {
      "text/plain": "'Før jeg afslutter min redegørelse, vil jeg gerne rette en dybfølt tak til den grønlandske befolkning. Det var med stor glæde, jeg var med til at fejre selvstyret i Grønland den 21. juni. Det var en smuk dag. Jeg havde også fornøjelsen af at dele den med en række af mine kolleger. Det var en smuk dag, hvor Grønland så fremad. Man kunne simpelt hen mærke troen på en fremtid med muligheder for at påtage sig ansvar for nye samfundsopgaver.Både i forhold til Grønland og til Færøerne fører regeringen en politik, der bygger på overdragelse af ansvar, så langt mulighederne tillader, og så langt de grønlandske og færøske ønsker rækker. Færøerne har gennem de seneste år overtaget ansvar på en række områder, og Grønland er nu godt i gang med sine forberedelser.Vi løsner de bånd i rigsfællesskabet, som snærer, men der er også andre bånd, som i en globaliseret verden kan styrkes, og hvor der kan være en fælles interesse i at styrke dem som under den aktuelle økonomiske krise, hvor regeringens bank- og kreditpakker har kunnet udstrækkes til også at omfatte pengeinstitutter på Færøerne og i Grønland, og som den kommende klimaaftale, hvor det er regeringens ønske, at også Grønland og Færøerne kan indgå. Det vil vi være meget opmærksomme på under forhandlingerne op til klimatopmødet, og når vi ser tegningen, skitsen til en endelig aftale.Vi tager nu hul på et nyt folketingsår, folketingsåret 2009-10. Det bliver et år, som kommer til at stå i de store beslutningers tegn: Vi skal styre os gennem krisen med mindst mulige menneskelige omkostninger; vi skal sikre, at alle unge kommer i gang med en uddannelse eller et job; vi skal forberede Danmark til tiden efter krisen, til ny vækst; vi skal tage et syvmileskridt mod nye moderne sygehuse i hele landet; vi skal gøre det lettere at være offentligt ansat og have mere service for velfærdskronerne; vi skal tage effektivt fat om ungdomskriminaliteten, for det er både uacceptabelt og ulykkeligt, at børn og unge begår grov kriminalitet; vi skal give både udlændingelov og integrationslov et serviceeftersyn, og vi skal gennemføre et vigtigt, afgørende klimatopmøde i december.Regeringen har sat dagsordenen og er klar til at følge den til dørs i det nye folketingsår. Jeg ser frem til samarbejdet her i Folketinget og de mange vigtige beslutninger. Vi har et fælles ansvar for at passe på det Danmark, som vi i fællesskab har skabt.Lad os indlede det nye Folketingsår med at udbringe et leve for Danmark.Danmark leve!(Trefoldigt hurraråb fra salen).'"
     },
     "metadata": {},
     "execution_count": 90
    }
   ],
   "source": [
    "df.iloc[0].Tekst"
   ]
  },
  {
   "cell_type": "code",
   "execution_count": 109,
   "metadata": {},
   "outputs": [
    {
     "output_type": "execute_result",
     "data": {
      "text/plain": "(array([   15,   211,   246,   827,  1026,  1388,  1998,  2148,  2202,\n         2485,  3371,  3449,  3489,  3861,  3953,  4526,  4648,  4682,\n         5706,  5785,  6294,  6326,  6335,  6550,  6744,  7234,  7553,\n         7572,  7636,  7637,  8114,  8244,  8382,  8383,  9217,  9251,\n         9845,  9921, 10211, 10480, 10602, 11026, 11092, 11236, 11702,\n        11742, 11769, 11937, 12567, 13244, 14131, 14323, 14461, 15208,\n        15235, 15776, 15936, 16127, 16230, 17123, 17341, 17926, 18259,\n        18277, 18332, 18645, 18670, 18711, 18714, 18912, 19141, 19545,\n        19632, 20496, 20514, 20844, 20937, 21228, 21232, 21544, 22078,\n        22379, 22466, 22494, 22747, 22879, 23144, 23326, 23342, 24031,\n        24471]),)"
     },
     "metadata": {},
     "execution_count": 109
    }
   ],
   "source": [
    "tmp = np.asarray(X.sum(axis=0)).reshape(-1)*np.asarray(X[0,:].todense()).reshape(-1)\n",
    "np.where(tmp > 0)"
   ]
  },
  {
   "cell_type": "code",
   "execution_count": 38,
   "metadata": {},
   "outputs": [
    {
     "output_type": "execute_result",
     "data": {
      "text/plain": "array([1.18171939e-04, 2.45998277e-03, 1.43317677e-06, ...,\n       6.77501744e-05, 4.29953030e-06, 4.60049742e-04])"
     },
     "metadata": {},
     "execution_count": 38
    }
   ],
   "source": [
    "tmp = np.asarray(X.sum(axis=0)).reshape(-1)/X.sum()\n",
    "tmp"
   ]
  },
  {
   "cell_type": "code",
   "execution_count": 27,
   "metadata": {},
   "outputs": [
    {
     "output_type": "execute_result",
     "data": {
      "text/plain": "'kommun'"
     },
     "metadata": {},
     "execution_count": 27
    }
   ],
   "source": [
    "tmp = dict(sorted({v: k for k, v in vocabulary.items()}.items()))\n",
    "tmp.get(11289)"
   ]
  },
  {
   "cell_type": "code",
   "execution_count": 15,
   "metadata": {},
   "outputs": [
    {
     "output_type": "execute_result",
     "data": {
      "text/plain": "5434"
     },
     "metadata": {},
     "execution_count": 15
    }
   ],
   "source": []
  },
  {
   "cell_type": "code",
   "execution_count": 12,
   "metadata": {},
   "outputs": [
    {
     "output_type": "execute_result",
     "data": {
      "text/plain": "[11289]"
     },
     "metadata": {},
     "execution_count": 12
    }
   ],
   "source": [
    "from collections import Counter\n",
    "[k for k,v in Counter(X.nonzero()[1]).items() if v >= X.shape[0]*0.1]"
   ]
  },
  {
   "cell_type": "code",
   "execution_count": 114,
   "metadata": {},
   "outputs": [
    {
     "output_type": "execute_result",
     "data": {
      "text/plain": "[]"
     },
     "metadata": {},
     "execution_count": 114
    }
   ],
   "source": [
    "corpus[2]"
   ]
  },
  {
   "cell_type": "code",
   "execution_count": 116,
   "metadata": {
    "tags": [
     "outputPrepend",
     "outputPrepend"
    ]
   },
   "outputs": [],
   "source": [
    "cx = scipy.sparse.coo_matrix(X)\n",
    "corpus = [[] for _ in range(X.shape[0])]\n",
    "for speech, col, data in zip(cx.row, cx.col, cx.data):\n",
    "    corpus[speech].append((col, data))"
   ]
  },
  {
   "cell_type": "code",
   "execution_count": 77,
   "metadata": {},
   "outputs": [
    {
     "output_type": "execute_result",
     "data": {
      "text/plain": "array([     0,      0,      0, ..., 183346, 183346, 183346], dtype=int32)"
     },
     "metadata": {},
     "execution_count": 77
    }
   ],
   "source": [
    "cx.row"
   ]
  },
  {
   "cell_type": "code",
   "execution_count": 78,
   "metadata": {},
   "outputs": [
    {
     "output_type": "execute_result",
     "data": {
      "text/plain": "array([   27,    72,    94, ..., 23326, 24870, 24871], dtype=int32)"
     },
     "metadata": {},
     "execution_count": 78
    }
   ],
   "source": [
    "cx.col"
   ]
  },
  {
   "cell_type": "code",
   "execution_count": 37,
   "metadata": {},
   "outputs": [
    {
     "output_type": "execute_result",
     "data": {
      "text/plain": "183347"
     },
     "metadata": {},
     "execution_count": 37
    }
   ],
   "source": [
    "X.shape[0]"
   ]
  },
  {
   "cell_type": "code",
   "execution_count": 71,
   "metadata": {},
   "outputs": [
    {
     "output_type": "execute_result",
     "data": {
      "text/plain": "[(27, 1),\n (72, 3),\n (94, 3),\n (107, 1),\n (218, 1),\n (469, 1),\n (518, 1),\n (771, 1),\n (870, 1),\n (951, 1),\n (999, 1),\n (1012, 2),\n (1054, 1),\n (1360, 1),\n (1399, 1),\n (1415, 1),\n (1422, 1),\n (1554, 2),\n (1557, 1),\n (1568, 3),\n (2148, 1),\n (2199, 1),\n (2443, 1),\n (2484, 1),\n (2589, 1),\n (2595, 1),\n (2664, 1),\n (2698, 1),\n (3109, 1),\n (3123, 1),\n (3145, 1),\n (3213, 1),\n (3371, 1),\n (3429, 1),\n (3458, 1),\n (3489, 2),\n (3500, 1),\n (4432, 1),\n (4493, 1),\n (4529, 1),\n (4702, 1),\n (4705, 1),\n (4707, 1),\n (4786, 2),\n (4941, 1),\n (5238, 1),\n (5323, 1),\n (5599, 2),\n (5650, 1),\n (5944, 1),\n (6267, 1),\n (6335, 1),\n (6429, 1),\n (6467, 1),\n (6498, 2),\n (6734, 1),\n (6797, 1),\n (6908, 1),\n (7097, 1),\n (7266, 1),\n (7404, 1),\n (7421, 1),\n (7526, 1),\n (7553, 2),\n (7639, 1),\n (7695, 1),\n (7741, 1),\n (7870, 2),\n (8004, 1),\n (8224, 3),\n (8281, 1),\n (8381, 1),\n (8632, 1),\n (8732, 1),\n (8975, 1),\n (9090, 1),\n (9365, 1),\n (9392, 1),\n (9415, 1),\n (9600, 1),\n (9968, 4),\n (10112, 1),\n (10119, 2),\n (10262, 1),\n (10480, 2),\n (10483, 1),\n (10538, 1),\n (10995, 2),\n (11116, 1),\n (11289, 1),\n (11469, 1),\n (11669, 1),\n (11670, 1),\n (11769, 4),\n (11774, 1),\n (11863, 3),\n (11965, 1),\n (12133, 2),\n (12170, 1),\n (12467, 2),\n (12671, 1),\n (12735, 1),\n (13007, 1),\n (13428, 1),\n (13642, 1),\n (13684, 1),\n (13803, 2),\n (13821, 1),\n (14115, 1),\n (14193, 1),\n (14253, 1),\n (14280, 1),\n (14423, 1),\n (14651, 1),\n (14990, 1),\n (15123, 1),\n (15235, 1),\n (15259, 1),\n (15330, 2),\n (15383, 1),\n (15423, 1),\n (15869, 1),\n (16145, 1),\n (16196, 1),\n (16475, 1),\n (16477, 1),\n (16642, 1),\n (16650, 1),\n (16827, 1),\n (16908, 1),\n (17609, 1),\n (17711, 1),\n (17955, 1),\n (17959, 1),\n (18062, 1),\n (18127, 1),\n (18166, 1),\n (18430, 1),\n (18670, 2),\n (18691, 1),\n (18855, 1),\n (18867, 1),\n (18912, 3),\n (18955, 1),\n (19121, 1),\n (19178, 1),\n (19203, 1),\n (19255, 2),\n (19319, 2),\n (19444, 1),\n (19547, 1),\n (19559, 1),\n (19726, 1),\n (19990, 1),\n (20229, 1),\n (20283, 1),\n (20304, 1),\n (20514, 2),\n (20521, 1),\n (20556, 1),\n (20736, 1),\n (20762, 1),\n (20787, 1),\n (20927, 1),\n (21080, 1),\n (21535, 1),\n (21548, 1),\n (21683, 1),\n (21724, 1),\n (21839, 1),\n (22121, 1),\n (22136, 1),\n (22368, 1),\n (22459, 1),\n (22494, 4),\n (22542, 1),\n (22634, 1),\n (22861, 1),\n (22933, 1),\n (23242, 1),\n (23326, 10),\n (23332, 2),\n (23353, 2),\n (23404, 1),\n (24031, 3),\n (24279, 3),\n (24471, 1),\n (24575, 1),\n (24577, 1),\n (24641, 1),\n (24745, 2),\n (24748, 2),\n (24840, 1),\n (24877, 2),\n (24896, 1),\n (189, 1),\n (923, 1),\n (1274, 1),\n (1618, 2),\n (1733, 1),\n (1746, 1),\n (1867, 1),\n (2748, 1),\n (3429, 1),\n (4219, 1),\n (4432, 1),\n (4534, 1),\n (4786, 1),\n (4936, 2),\n (5247, 1),\n (5280, 1),\n (5374, 1),\n (5378, 1),\n (5445, 2),\n (5665, 1),\n (6153, 1),\n (6294, 1),\n (6309, 1),\n (6338, 1),\n (6394, 1),\n (7300, 1),\n (7499, 1),\n (7649, 1),\n (8006, 1),\n (8077, 1),\n (8113, 2),\n (8224, 1),\n (8236, 1),\n (9561, 1),\n (9811, 1),\n (9883, 1),\n (10034, 1),\n (10252, 1),\n (10262, 2),\n (10480, 2),\n (10683, 1),\n (11429, 2),\n (11431, 1),\n (11685, 1),\n (11769, 3),\n (11799, 1),\n (11863, 3),\n (12133, 3),\n (13180, 1),\n (13776, 1),\n (13821, 1),\n (14098, 1),\n (14131, 1),\n (14423, 1),\n (14477, 2),\n (15120, 1),\n (15293, 1),\n (15351, 1),\n (15741, 1),\n (16674, 2),\n (16827, 1),\n (16855, 2),\n (16856, 1),\n (17756, 1),\n (17955, 1),\n (18146, 1),\n (18543, 1),\n (18956, 1),\n (19371, 1),\n (20304, 1),\n (20529, 1),\n (20556, 1),\n (20785, 2),\n (21018, 1),\n (21077, 6),\n (21565, 1),\n (21669, 1),\n (22074, 1),\n (22115, 1),\n (22274, 1),\n (22368, 1),\n (22487, 1),\n (23135, 1),\n (23470, 1),\n (23898, 1),\n (23967, 2),\n (23989, 2),\n (24031, 3),\n (24237, 1),\n (24271, 2),\n (24279, 2),\n (24280, 1),\n (24357, 1),\n (24465, 2),\n (24471, 1),\n (24483, 1),\n (24511, 1),\n (24870, 2),\n (223, 1),\n (303, 1),\n (325, 1),\n (617, 1),\n (1184, 1),\n (1186, 1),\n (2509, 1),\n (2556, 1),\n (2600, 1),\n (2836, 1),\n (3144, 1),\n (3233, 1),\n (3740, 1),\n (4073, 1),\n (4377, 1),\n (4616, 1),\n (4750, 1),\n (4768, 2),\n (4927, 1),\n (4982, 1),\n (5082, 1),\n (5101, 1),\n (5174, 1),\n (5303, 1),\n (5434, 2),\n (5691, 1),\n (5993, 1),\n (6249, 5),\n (6291, 1),\n (6294, 1),\n (6394, 2),\n (6409, 1),\n (6753, 1),\n (6762, 1),\n (6831, 1),\n (6891, 1),\n (6951, 1),\n (7031, 1),\n (7126, 1),\n (7129, 1),\n (7331, 1),\n (7443, 1),\n (8381, 5),\n (8389, 1),\n (8536, 1),\n (9254, 1),\n (9498, 1),\n (9856, 1),\n (9861, 1),\n (10147, 2),\n (10155, 1),\n (10156, 3),\n (10480, 1),\n (10916, 1),\n (11051, 1),\n (11083, 1),\n (11084, 1),\n (11092, 1),\n (11429, 1),\n (11769, 3),\n (11876, 1),\n (12066, 1),\n (12133, 1),\n (12158, 1),\n (12190, 1),\n (12260, 1),\n (12381, 1),\n (12382, 1),\n (12467, 1),\n (13148, 1),\n (14176, 1),\n (14182, 1),\n (14423, 1),\n (14434, 1),\n (14484, 1),\n (14589, 1),\n (15030, 1),\n (15155, 1),\n (15208, 1),\n (15383, 1),\n (15466, 1),\n (15488, 1),\n (15511, 1),\n (16021, 1),\n (16196, 1),\n (16416, 1),\n (16596, 1),\n (16630, 1),\n (16826, 1),\n (16834, 1),\n (16983, 4),\n (17224, 1),\n (17248, 1),\n (17521, 1),\n (17737, 1),\n (18470, 1),\n (18472, 1),\n (18567, 1),\n (19166, 1),\n (19255, 2),\n (19301, 1),\n (19375, 1),\n (20304, 1),\n (20388, 1),\n (20496, 1),\n (20514, 1),\n (20518, 1),\n (20556, 2),\n (20617, 1),\n (20950, 1),\n (21631, 1),\n (21869, 1),\n (22026, 1),\n (22035, 1),\n (22136, 1),\n (22140, 1),\n (22192, 1),\n (22256, 1),\n (22330, 1),\n (22486, 1),\n (22494, 2),\n (22680, 1),\n (22780, 1),\n (23353, 1),\n (23525, 1),\n (23831, 1),\n (23898, 1),\n (23967, 4),\n (24019, 1),\n (24031, 3),\n (24059, 1),\n (24164, 1),\n (24279, 1),\n (24280, 1),\n (24295, 1),\n (24471, 4),\n (24497, 1),\n (24864, 1),\n (24897, 2),\n (246, 1),\n (341, 1),\n (485, 1),\n (537, 1),\n (1106, 2),\n (1189, 1),\n (2044, 1),\n (2304, 1),\n (2319, 5),\n (3222, 1),\n (3371, 1),\n (3389, 1),\n (3396, 1),\n (3626, 1),\n (3640, 1),\n (3891, 1),\n (4081, 1),\n (4135, 1),\n (4648, 1),\n (4680, 1),\n (4786, 1),\n (4862, 1),\n (5434, 1),\n (5535, 2),\n (5691, 2),\n (5706, 1),\n (5865, 1),\n (6095, 1),\n (6153, 2),\n (6294, 1),\n (6330, 1),\n (6429, 1),\n (6465, 1),\n (6734, 1),\n (6902, 1),\n (7197, 1),\n (7252, 1),\n (7266, 1),\n (7277, 1),\n (7547, 1),\n (7572, 1),\n (7761, 1),\n (8487, 1),\n (8746, 1),\n (8839, 1),\n (8859, 1),\n (8889, 1),\n (8994, 1),\n (9104, 2),\n (9408, 1),\n (9495, 1),\n (9627, 1),\n (9930, 1),\n (9969, 1),\n (10075, 1),\n (10262, 1),\n (10299, 3),\n (10878, 1),\n (10882, 1),\n (11555, 1),\n (11846, 1),\n (11854, 1),\n (11855, 1),\n (11863, 1),\n (11937, 1),\n (11989, 2),\n (12000, 1),\n (12133, 2),\n (12212, 1),\n (12467, 1),\n (12735, 1),\n (13028, 1),\n (13071, 1),\n (13803, 2),\n (13867, 1),\n (14131, 1),\n (14147, 2),\n (14151, 1),\n (14423, 1),\n (14434, 2),\n (14639, 1),\n (15007, 1),\n (15116, 1),\n (15352, 1),\n (15510, 1),\n (15875, 1),\n (16161, 4),\n (16410, 1),\n (16701, 1),\n (16862, 1),\n (17019, 1),\n (17293, 1),\n (17473, 1),\n (17914, 1),\n (18009, 1),\n (18070, 1),\n (18415, 1),\n (18670, 1),\n (18711, 1),\n (18809, 2),\n (18866, 1),\n (18870, 1),\n (18905, 1),\n (18915, 1),\n (19815, 1),\n (19821, 1),\n (20229, 1),\n (20532, 2),\n (20556, 1),\n (20650, 1),\n (20654, 1),\n (20688, 3),\n (20689, 1),\n (20762, 1),\n (20822, 2),\n (20823, 3),\n (20824, 1),\n (20844, 8),\n (20847, 1),\n (20860, 1),\n (20862, 1),\n (20863, 1),\n (21501, 1),\n (21684, 1),\n (21832, 1),\n (22115, 1),\n (22121, 1),\n (22136, 1),\n (22488, 1),\n (22634, 1),\n (22884, 1),\n (23247, 1),\n (23541, 1),\n (23616, 1),\n (23768, 1),\n (23922, 4),\n (23967, 1),\n (24021, 1),\n (24031, 2),\n (24069, 1),\n (24471, 1),\n (24707, 1),\n (24738, 1),\n (24742, 1),\n (24748, 1),\n (24858, 1),\n (24874, 1),\n (21, 2),\n (461, 1),\n (949, 1),\n (1388, 2),\n (1487, 1),\n (1763, 1),\n (2121, 1),\n (2331, 1),\n (2614, 1),\n (3127, 1),\n (3309, 2),\n (3640, 1),\n (3825, 1),\n (3865, 1),\n (4067, 1),\n (4750, 1),\n (4786, 1),\n (4887, 1),\n (6153, 2),\n (6249, 1),\n (6409, 1),\n (6476, 1),\n (7266, 1),\n (7345, 3),\n (7848, 1),\n (7918, 1),\n (7926, 2),\n (8592, 1),\n (8608, 1),\n (8922, 1),\n (8987, 1),\n (9126, 1),\n (9308, 1),\n (9310, 1),\n (9962, 1),\n (10201, 1),\n (10249, 1),\n (11289, 2),\n (11799, 1),\n (11806, 1),\n (12133, 1),\n (13116, 1),\n (13163, 1),\n (13537, 1),\n (13739, 1),\n (13948, 1),\n (14065, 1),\n (14253, 1),\n (14348, 1),\n (15285, 1),\n (16012, 1),\n (16127, 1),\n (16161, 1),\n (16466, 2),\n (17137, 1),\n (17414, 3),\n (17473, 2),\n (18567, 2),\n (18711, 1),\n (19113, 1),\n (19157, 1),\n (19166, 1),\n (19444, 1),\n (19778, 1),\n (20081, 1),\n (20490, 1),\n (20532, 1),\n (20927, 2),\n (21157, 1),\n (21548, 2),\n (21601, 1),\n (23916, 2),\n (23953, 1),\n (24218, 1),\n (24271, 1),\n (24357, 1),\n (24428, 1),\n (24455, 1),\n (24461, 1),\n (24737, 1),\n (24806, 1),\n (60, 2),\n (107, 1),\n (341, 1),\n (518, 2),\n (916, 1),\n (944, 1),\n (1026, 1),\n (1352, 1),\n (1444, 1),\n (1969, 1),\n (1976, 1),\n (2042, 3),\n (2148, 1),\n (2200, 2),\n (2202, 1),\n (2269, 1),\n (2270, 1),\n (2277, 1),\n (2393, 1),\n (2443, 1),\n (2808, 1),\n (3046, 1),\n (3365, 1),\n (3489, 7),\n (3639, 1),\n (4191, 1),\n (4321, 1),\n (4645, 1),\n (4672, 1),\n (4682, 1),\n (4857, 1),\n (4902, 1),\n (5263, 2),\n (5433, 1),\n (5568, 1),\n (5641, 1),\n (5706, 3),\n (6429, 1),\n (6484, 1),\n (6491, 1),\n (6734, 1),\n (6975, 1),\n (7004, 2),\n (7058, 1),\n (7266, 1),\n (7345, 1),\n (7500, 1),\n (7695, 1),\n (7757, 1),\n (7768, 1),\n (8014, 1),\n (8224, 2),\n (8244, 2),\n (8281, 1),\n (8314, 2),\n (8608, 2),\n (8732, 2),\n (8918, 1),\n (9126, 1),\n (9308, 1),\n (9408, 2),\n (9968, 4),\n (9969, 1),\n (10051, 1),\n (10059, 2),\n (10187, 1),\n (10201, 1),\n (10211, 1),\n (10217, 1),\n (10221, 1),\n (10332, 1),\n (10393, 1),\n (11188, 1),\n (11289, 4),\n (11475, 4),\n (11502, 1),\n (11555, 1),\n (11620, 1),\n (11669, 1),\n (11742, 5),\n (11765, 4),\n (11769, 1),\n (11863, 6),\n (11959, 2),\n (12040, 1),\n (12429, 1),\n (12735, 1),\n (12744, 1),\n (12747, 1),\n (12939, 1),\n (12989, 1),\n (13022, 1),\n (13028, 1),\n (13428, 1),\n (13643, 1),\n (13702, 1),\n (13819, 1),\n (14253, 1),\n (14434, 1),\n (14897, 1),\n (14933, 2),\n (15285, 1),\n (15304, 1),\n (15350, 1),\n (15404, 1),\n (15508, 2),\n (15537, 1),\n (15548, 1),\n (15688, 1),\n (15920, 1),\n (16051, 1),\n (16146, 1),\n (16416, 1),\n (16483, 1),\n (16511, 1),\n (16973, 1),\n (17284, 1),\n (17595, 1),\n (17737, 2),\n (17775, 3),\n (17790, 1),\n (18109, 1),\n (18277, 3),\n (18357, 1),\n (18567, 1),\n (18652, 1),\n (18714, 1),\n (18870, 2),\n (19282, 1),\n (19301, 2),\n (19375, 1),\n (19444, 3),\n (19466, 1),\n (19549, 1),\n (19646, 2),\n (19781, 1),\n (20081, 1),\n (20181, 1),\n (20229, 1),\n (20286, 1),\n (20325, 2),\n (20365, 1),\n (20435, 1),\n (20516, 1),\n (20532, 4),\n (20952, 1),\n (20969, 1),\n (21403, 1),\n (21638, 3),\n (22065, 1),\n (22074, 1),\n (22115, 2),\n (22121, 1),\n (22346, 2),\n (22494, 3),\n (22495, 1),\n (22747, 1),\n (22755, 1),\n (23102, 1),\n (23326, 10),\n (23341, 2),\n (23342, 1),\n (23541, 2),\n (23768, 1),\n (23897, 1),\n (23989, 1),\n (24357, 2),\n (24376, 3),\n (24575, 1),\n (399, 1),\n (506, 1),\n (608, 1),\n (723, 1),\n (1028, 1),\n (1132, 1),\n (1173, 1),\n (1185, 1),\n (1403, 1),\n (1501, 1),\n (2194, 1),\n (2333, 1),\n (2397, 1),\n (2496, 1),\n (2720, 1),\n (3107, 1),\n (3126, 1),\n (3362, 1),\n (3953, 1),\n (5061, 1),\n (5092, 1),\n (5168, 1),\n (5173, 2),\n (5434, 1),\n (5465, 1),\n (5757, 1),\n (6087, 1),\n (6184, 1),\n (6394, 1),\n (6550, 1),\n (6715, 1),\n (7025, 1),\n (7031, 1),\n (8124, 1),\n (8381, 2),\n (9254, 1),\n (9308, 1),\n (9408, 1),\n (9491, 1),\n (9625, 1),\n (9671, 1),\n (9845, 1),\n (9861, 3),\n (10059, 1),\n (10201, 1),\n (10262, 3),\n (10300, 1),\n (10436, 1),\n (10823, 1),\n (10916, 2),\n (11025, 1),\n (11026, 1),\n (11033, 1),\n (11053, 2),\n (11092, 3),\n (11236, 1),\n (11406, 1),\n (11769, 1),\n (11843, 1),\n (11845, 3),\n (11863, 1),\n (12158, 1),\n (12524, 1),\n (12598, 1),\n (12735, 1),\n (13163, 1),\n (13661, 1),\n (13731, 1),\n (13932, 1),\n (14423, 1),\n (14444, 1),\n (14461, 1),\n (14477, 1),\n (14936, 1),\n (14990, 1),\n (15208, 1),\n (15294, 1),\n (15508, 4),\n (15519, 2),\n (15649, 1),\n (15894, 1),\n (16074, 1),\n (16340, 1),\n (16421, 1),\n (16599, 1),\n (16673, 2),\n (16985, 4),\n (17003, 1),\n (17450, 1),\n (18091, 1),\n (18259, 2),\n (18277, 1),\n (18472, 1),\n (18670, 1),\n (19255, 1),\n (20081, 1),\n (20437, 1),\n (20532, 1),\n (20556, 1),\n (20594, 2),\n (20617, 1),\n (20787, 1),\n (20801, 1),\n (21239, 1),\n (22076, 1),\n (22611, 1),\n (22634, 1),\n (22877, 1),\n (22978, 1),\n (23054, 1),\n (23242, 1),\n (23341, 1),\n (23470, 3),\n (23515, 1),\n (23726, 2),\n (23922, 1),\n (23942, 1),\n (23967, 1),\n (24031, 2),\n (24471, 1),\n (24585, 2),\n (24588, 1),\n (24664, 1),\n (654, 1),\n (655, 4),\n (733, 1),\n (808, 1),\n (1171, 1),\n (1221, 1),\n (1487, 1),\n (1709, 1),\n (1841, 1),\n (2148, 2),\n (2264, 1),\n (2272, 1),\n (2443, 1),\n (2485, 1),\n (2548, 1),\n (2640, 2),\n (2665, 1),\n (2670, 1),\n (3114, 1),\n (3126, 1),\n (3145, 1),\n (3639, 1),\n (3651, 2),\n (3997, 2),\n (4027, 1),\n (4534, 1),\n (4648, 1),\n (4951, 1),\n (5173, 4),\n (5434, 8),\n (5438, 1),\n (5465, 1),\n (5467, 3),\n (5652, 1),\n (5863, 1),\n (5895, 1),\n (6034, 2),\n (6071, 1),\n (6221, 2),\n (6294, 1),\n (6309, 1),\n (6394, 2),\n (6630, 1),\n (6908, 2),\n (6915, 1),\n (7031, 1),\n (7196, 2),\n (7197, 1),\n ...]"
     },
     "metadata": {},
     "execution_count": 71
    }
   ],
   "source": [
    "corpus[0]"
   ]
  },
  {
   "cell_type": "code",
   "execution_count": 20,
   "metadata": {},
   "outputs": [
    {
     "output_type": "execute_result",
     "data": {
      "text/plain": "array([     0,      0,      0, ..., 183346, 183346, 183346], dtype=int32)"
     },
     "metadata": {},
     "execution_count": 20
    }
   ],
   "source": [
    "cx.row"
   ]
  },
  {
   "cell_type": "code",
   "execution_count": 23,
   "metadata": {},
   "outputs": [
    {
     "output_type": "execute_result",
     "data": {
      "text/plain": "array([1, 3, 3, ..., 3, 1, 1])"
     },
     "metadata": {},
     "execution_count": 23
    }
   ],
   "source": [
    "cx.data"
   ]
  },
  {
   "cell_type": "code",
   "execution_count": 11,
   "metadata": {},
   "outputs": [
    {
     "output_type": "execute_result",
     "data": {
      "text/plain": "array([ 1,  3,  3,  1,  1,  1,  1,  1,  1,  1,  1,  2,  1,  1,  1,  1,  1,\n        2,  1,  3,  1,  1,  1,  1,  1,  1,  1,  1,  1,  1,  1,  1,  1,  1,\n        1,  2,  1,  1,  1,  1,  1,  1,  1,  2,  1,  1,  1,  2,  1,  1,  1,\n        1,  1,  1,  2,  1,  1,  1,  1,  1,  1,  1,  1,  2,  1,  1,  1,  2,\n        1,  3,  1,  1,  1,  1,  1,  1,  1,  1,  1,  1,  4,  1,  2,  1,  2,\n        1,  1,  2,  1,  1,  1,  1,  1,  4,  1,  3,  1,  2,  1,  2,  1,  1,\n        1,  1,  1,  1,  2,  1,  1,  1,  1,  1,  1,  1,  1,  1,  1,  1,  2,\n        1,  1,  1,  1,  1,  1,  1,  1,  1,  1,  1,  1,  1,  1,  1,  1,  1,\n        1,  1,  2,  1,  1,  1,  3,  1,  1,  1,  1,  2,  2,  1,  1,  1,  1,\n        1,  1,  1,  1,  2,  1,  1,  1,  1,  1,  1,  1,  1,  1,  1,  1,  1,\n        1,  1,  1,  1,  4,  1,  1,  1,  1,  1, 10,  2,  2,  1,  3,  3,  1,\n        1,  1,  1,  2,  2,  1,  2,  1])"
     },
     "metadata": {},
     "execution_count": 11
    }
   ],
   "source": [
    "X[0].data"
   ]
  },
  {
   "cell_type": "code",
   "execution_count": 23,
   "metadata": {},
   "outputs": [],
   "source": [
    "tmp = pd.DataFrame(data = X, index = df.Dagsordenpunkt, columns = ['kage'])"
   ]
  },
  {
   "cell_type": "code",
   "execution_count": 119,
   "metadata": {},
   "outputs": [
    {
     "output_type": "stream",
     "name": "stdout",
     "text": "0\n500\n1000\n1500\n2000\n2500\n3000\n3500\n4000\n4500\n5000\n5500\n6000\n6500\n7000\n"
    }
   ],
   "source": [
    "cancer = np.empty((df.Dagsordenpunkt.nunique(),X.shape[1]))\n",
    "for i, punkt in enumerate(df.Dagsordenpunkt.unique()):\n",
    "    if (i % 500) == 0:\n",
    "        print(i)\n",
    "    \n",
    "    try:\n",
    "        cancer[i,:] = np.minimum(1,np.asarray(sum([s for s in tmp.loc[punkt].kage.values]).todense()).reshape(-1,))\n",
    "    except AttributeError:\n",
    "        cancer[i,:] = np.minimum(1,np.asarray(tmp.loc[punkt].kage.todense()).reshape(-1))\n"
   ]
  },
  {
   "cell_type": "code",
   "execution_count": 164,
   "metadata": {},
   "outputs": [],
   "source": [
    "indexes = np.where(cancer.mean(axis=0) > 0.4)[0]"
   ]
  },
  {
   "cell_type": "code",
   "execution_count": 216,
   "metadata": {},
   "outputs": [
    {
     "output_type": "execute_result",
     "data": {
      "text/plain": "{'00': 0,\n '000': 1,\n '001': 2,\n '01': 3,\n '02': 4,\n '03': 5,\n '04': 6,\n '05': 7,\n '050': 8,\n '06': 9,\n '07': 10,\n '070': 11,\n '08': 12,\n '09': 13,\n '095': 14,\n '10': 15,\n '100': 16,\n '101': 17,\n '102': 18,\n '103': 19,\n '104': 20,\n '105': 21,\n '106': 22,\n '107': 23,\n '108': 24,\n '109': 25,\n '11': 26,\n '110': 27,\n '111': 28,\n '112': 29,\n '113': 30,\n '114': 31,\n '115': 32,\n '116': 33,\n '117': 34,\n '118': 35,\n '119': 36,\n '12': 37,\n '120': 38,\n '121': 39,\n '122': 40,\n '123': 41,\n '124': 42,\n '125': 43,\n '126': 44,\n '127': 45,\n '128': 46,\n '129': 47,\n '12½': 48,\n '13': 49,\n '130': 50,\n '131': 51,\n '132': 52,\n '133': 53,\n '134': 54,\n '135': 55,\n '136': 56,\n '137': 57,\n '138': 58,\n '139': 59,\n '14': 60,\n '140': 61,\n '141': 62,\n '142': 63,\n '143': 64,\n '144': 65,\n '145': 66,\n '146': 67,\n '147': 68,\n '148': 69,\n '149': 70,\n '14½': 71,\n '15': 72,\n '150': 73,\n '151': 74,\n '152': 75,\n '153': 76,\n '154': 77,\n '155': 78,\n '156': 79,\n '157': 80,\n '158': 81,\n '159': 82,\n '16': 83,\n '160': 84,\n '161': 85,\n '162': 86,\n '163': 87,\n '164': 88,\n '165': 89,\n '166': 90,\n '167': 91,\n '168': 92,\n '169': 93,\n '17': 94,\n '170': 95,\n '1700': 96,\n '171': 97,\n '172': 98,\n '173': 99,\n '174': 100,\n '175': 101,\n '176': 102,\n '177': 103,\n '178': 104,\n '179': 105,\n '17½': 106,\n '18': 107,\n '180': 108,\n '1800': 109,\n '181': 110,\n '1814': 111,\n '182': 112,\n '183': 113,\n '184': 114,\n '1849': 115,\n '185': 116,\n '1850': 117,\n '186': 118,\n '1864': 119,\n '187': 120,\n '188': 121,\n '189': 122,\n '19': 123,\n '190': 124,\n '1900': 125,\n '1901': 126,\n '1903': 127,\n '1905': 128,\n '191': 129,\n '1912': 130,\n '1915': 131,\n '1918': 132,\n '192': 133,\n '1920': 134,\n '1923': 135,\n '1925': 136,\n '1929': 137,\n '193': 138,\n '1930': 139,\n '1933': 140,\n '1939': 141,\n '194': 142,\n '1940': 143,\n '1941': 144,\n '1945': 145,\n '1946': 146,\n '1947': 147,\n '1948': 148,\n '1949': 149,\n '195': 150,\n '1950': 151,\n '1951': 152,\n '1953': 153,\n '1955': 154,\n '1956': 155,\n '1957': 156,\n '1959': 157,\n '196': 158,\n '1960': 159,\n '1961': 160,\n '1962': 161,\n '1963': 162,\n '1964': 163,\n '1965': 164,\n '1966': 165,\n '1967': 166,\n '1968': 167,\n '1969': 168,\n '197': 169,\n '1970': 170,\n '1971': 171,\n '1972': 172,\n '1973': 173,\n '1974': 174,\n '1975': 175,\n '1977': 176,\n '1978': 177,\n '1979': 178,\n '1980': 179,\n '1981': 180,\n '1982': 181,\n '1983': 182,\n '1984': 183,\n '1985': 184,\n '1986': 185,\n '1987': 186,\n '1988': 187,\n '1989': 188,\n '1990': 189,\n '1991': 190,\n '1992': 191,\n '1993': 192,\n '1994': 193,\n '1995': 194,\n '1996': 195,\n '1997': 196,\n '1998': 197,\n '1999': 198,\n '1½': 199,\n '20': 200,\n '200': 201,\n '2000': 202,\n '2001': 203,\n '2002': 204,\n '2003': 205,\n '2004': 206,\n '2005': 207,\n '2006': 208,\n '2007': 209,\n '2008': 210,\n '2009': 211,\n '201': 212,\n '2010': 213,\n '2011': 214,\n '2012': 215,\n '2013': 216,\n '2014': 217,\n '2015': 218,\n '2016': 219,\n '2017': 220,\n '2018': 221,\n '2019': 222,\n '2020': 223,\n '2021': 224,\n '2022': 225,\n '2023': 226,\n '2024': 227,\n '2025': 228,\n '2026': 229,\n '2027': 230,\n '203': 231,\n '2030': 232,\n '2032': 233,\n '2034': 234,\n '2035': 235,\n '204': 236,\n '2040': 237,\n '2042': 238,\n '205': 239,\n '2050': 240,\n '206': 241,\n '2060': 242,\n '207': 243,\n '208': 244,\n '209': 245,\n '21': 246,\n '210': 247,\n '2100': 248,\n '211': 249,\n '212': 250,\n '213': 251,\n '215': 252,\n '216': 253,\n '218': 254,\n '22': 255,\n '220': 256,\n '221': 257,\n '222': 258,\n '223': 259,\n '224': 260,\n '225': 261,\n '226': 262,\n '227': 263,\n '228': 264,\n '23': 265,\n '230': 266,\n '231': 267,\n '234': 268,\n '235': 269,\n '237': 270,\n '24': 271,\n '240': 272,\n '242': 273,\n '244': 274,\n '245': 275,\n '246': 276,\n '24tim': 277,\n '25': 278,\n '250': 279,\n '255': 280,\n '26': 281,\n '260': 282,\n '264': 283,\n '265': 284,\n '266': 285,\n '267': 286,\n '268': 287,\n '27': 288,\n '270': 289,\n '275': 290,\n '276': 291,\n '278': 292,\n '28': 293,\n '280': 294,\n '281': 295,\n '285': 296,\n '286': 297,\n '287': 298,\n '29': 299,\n '290': 300,\n '291': 301,\n '2½': 302,\n '30': 303,\n '300': 304,\n '305': 305,\n '31': 306,\n '310': 307,\n '314': 308,\n '315': 309,\n '32': 310,\n '320': 311,\n '321': 312,\n '325': 313,\n '328': 314,\n '33': 315,\n '330': 316,\n '335': 317,\n '34': 318,\n '340': 319,\n '345': 320,\n '35': 321,\n '350': 322,\n '351': 323,\n '36': 324,\n '360': 325,\n '362': 326,\n '365': 327,\n '366': 328,\n '367': 329,\n '37': 330,\n '370': 331,\n '375': 332,\n '38': 333,\n '380': 334,\n '385': 335,\n '386': 336,\n '39': 337,\n '390': 338,\n '3f': 339,\n '3½': 340,\n '40': 341,\n '400': 342,\n '406': 343,\n '408': 344,\n '41': 345,\n '410': 346,\n '419': 347,\n '42': 348,\n '420': 349,\n '425': 350,\n '426': 351,\n '428': 352,\n '43': 353,\n '430': 354,\n '44': 355,\n '440': 356,\n '45': 357,\n '450': 358,\n '454': 359,\n '46': 360,\n '460': 361,\n '465': 362,\n '467': 363,\n '47': 364,\n '470': 365,\n '472': 366,\n '48': 367,\n '480': 368,\n '486': 369,\n '49': 370,\n '490': 371,\n '4½': 372,\n '50': 373,\n '500': 374,\n '505': 375,\n '51': 376,\n '52': 377,\n '520': 378,\n '525': 379,\n '53': 380,\n '530': 381,\n '54': 382,\n '540': 383,\n '548': 384,\n '55': 385,\n '550': 386,\n '56': 387,\n '560': 388,\n '57': 389,\n '570': 390,\n '575': 391,\n '58': 392,\n '580': 393,\n '59': 394,\n '590': 395,\n '5½': 396,\n '60': 397,\n '600': 398,\n '61': 399,\n '610': 400,\n '615': 401,\n '62': 402,\n '625': 403,\n '63': 404,\n '630': 405,\n '632': 406,\n '64': 407,\n '640': 408,\n '641': 409,\n '65': 410,\n '650': 411,\n '657': 412,\n '66': 413,\n '660': 414,\n '67': 415,\n '670': 416,\n '68': 417,\n '69': 418,\n '6½': 419,\n '70': 420,\n '700': 421,\n '71': 422,\n '72': 423,\n '720': 424,\n '725': 425,\n '73': 426,\n '730': 427,\n '735': 428,\n '73½': 429,\n '74': 430,\n '747': 431,\n '75': 432,\n '750': 433,\n '76': 434,\n '760': 435,\n '762': 436,\n '77': 437,\n '78': 438,\n '780': 439,\n '79': 440,\n '7½': 441,\n '80': 442,\n '800': 443,\n '81': 444,\n '810': 445,\n '82': 446,\n '83': 447,\n '830': 448,\n '837': 449,\n '84': 450,\n '85': 451,\n '850': 452,\n '86': 453,\n '861': 454,\n '87': 455,\n '88': 456,\n '883': 457,\n '89': 458,\n '8½': 459,\n '90': 460,\n '900': 461,\n '91': 462,\n '92': 463,\n '924': 464,\n '93': 465,\n '930': 466,\n '94': 467,\n '940': 468,\n '95': 469,\n '950': 470,\n '96': 471,\n '97': 472,\n '98': 473,\n '99': 474,\n '999': 475,\n '9½': 476,\n 'a1': 477,\n 'a4': 478,\n 'aaa': 479,\n 'aabenraa': 480,\n 'aaby': 481,\n 'aaen': 482,\n 'aag': 483,\n 'aaja': 484,\n 'aalborg': 485,\n 'aamund': 486,\n 'aarhus': 487,\n 'aarhusmodel': 488,\n 'aastrup': 489,\n 'ab': 490,\n 'abba': 491,\n 'abc': 492,\n 'abdel': 493,\n 'abdullah': 494,\n 'aben': 495,\n 'aber': 496,\n 'abespil': 497,\n 'abildgaard': 498,\n 'abon': 499,\n 'abonnement': 500,\n 'abonnementskort': 501,\n 'abonnementsordning': 502,\n 'abonnent': 503,\n 'abort': 504,\n 'absalon': 505,\n 'absolut': 506,\n 'absorb': 507,\n 'abstinens': 508,\n 'abstrak': 509,\n 'absurd': 510,\n 'absurdit': 511,\n 'absurditet': 512,\n 'abt': 513,\n 'abu': 514,\n 'ac': 515,\n 'acceler': 516,\n 'acceleration': 517,\n 'accept': 518,\n 'acceptabel': 519,\n 'acceptabelt': 520,\n 'acceptabl': 521,\n 'accord': 522,\n 'acontobeløb': 523,\n 'acontoskat': 524,\n 'action': 525,\n 'adam': 526,\n 'additionel': 527,\n 'adelste': 528,\n 'adenbug': 529,\n 'adfærd': 530,\n 'adfærdseffek': 531,\n 'adfærdsmæs': 532,\n 'adfærdsmønst': 533,\n 'adfærdsregul': 534,\n 'adfærdsregulering': 535,\n 'adfærdsændring': 536,\n 'adgang': 537,\n 'adgangsbegrænsning': 538,\n 'adgangsbil': 539,\n 'adgangsbillet': 540,\n 'adgangsforhold': 541,\n 'adgangsgiv': 542,\n 'adgangskrav': 543,\n 'adgangsvej': 544,\n 'adhd': 545,\n 'adkomst': 546,\n 'administr': 547,\n 'administration': 548,\n 'administrationsbyrd': 549,\n 'administrationsgrundlag': 550,\n 'administrationsomkostning': 551,\n 'administrationsudgift': 552,\n 'administrativ': 553,\n 'administrativt': 554,\n 'administrator': 555,\n 'adopt': 556,\n 'adoptant': 557,\n 'adoption': 558,\n 'adoptionsformidling': 559,\n 'adoptionslov': 560,\n 'adoptionsområd': 561,\n 'adoptionssystem': 562,\n 'adoptivbarn': 563,\n 'adoptivbørn': 564,\n 'adoptivfamili': 565,\n 'adoptivforældr': 566,\n 'adr': 567,\n 'adres': 568,\n 'adressebeskyt': 569,\n 'adsbøl': 570,\n 'adskil': 571,\n 'adskilt': 572,\n 'adspurg': 573,\n 'advar': 574,\n 'advared': 575,\n 'advarsel': 576,\n 'advarselsflag': 577,\n 'advarselslamp': 578,\n 'advarselssystem': 579,\n 'advarsl': 580,\n 'advis': 581,\n 'advok': 582,\n 'advokat': 583,\n 'advokatbistand': 584,\n 'advokatfirma': 585,\n 'advokatkontor': 586,\n 'advokatregning': 587,\n 'advokatråd': 588,\n 'advokatsalær': 589,\n 'advokatsamfund': 590,\n 'advokatundersøg': 591,\n 'ae': 592,\n 'aer': 593,\n 'afart': 594,\n 'afbalanc': 595,\n 'afbalancering': 596,\n 'afbetal': 597,\n 'afbetalt': 598,\n 'afblæs': 599,\n 'afblæst': 600,\n 'afbrud': 601,\n 'afbryd': 602,\n 'afbrænd': 603,\n 'afbrænding': 604,\n 'afbrød': 605,\n 'afbud': 606,\n 'afbureaukratis': 607,\n 'afbureaukratisering': 608,\n 'afbureaukratiseringsforslag': 609,\n 'afbureaukratiseringsplan': 610,\n 'afbød': 611,\n 'afdeling': 612,\n 'afdelingsbestyr': 613,\n 'afdelingskontor': 614,\n 'afdelingsled': 615,\n 'afdelingsmød': 616,\n 'afdrag': 617,\n 'afdragsfri': 618,\n 'afdragsordning': 619,\n 'afdæk': 620,\n 'afdækked': 621,\n 'afdækning': 622,\n 'afdæmp': 623,\n 'afdød': 624,\n 'affair': 625,\n 'affald': 626,\n 'affaldsforebyg': 627,\n 'affaldsgebyr': 628,\n 'affaldshierarki': 629,\n 'affaldshåndtering': 630,\n 'affaldsmæng': 631,\n 'affaldsområd': 632,\n 'affaldssektor': 633,\n 'affat': 634,\n 'affej': 635,\n 'affek': 636,\n 'affektionsværdi': 637,\n 'affind': 638,\n 'affolk': 639,\n 'affolkning': 640,\n 'affred': 641,\n 'affredning': 642,\n 'affyr': 643,\n 'affyringsperiod': 644,\n 'affær': 645,\n 'affærd': 646,\n 'affød': 647,\n 'afføring': 648,\n 'afgang': 649,\n 'afgangsald': 650,\n 'afgangseksam': 651,\n 'afgangsprøv': 652,\n 'afgav': 653,\n 'afghan': 654,\n 'afghanistan': 655,\n 'afghanistankommission': 656,\n 'afghanistankr': 657,\n 'afghanistanstrategi': 658,\n 'afghansk': 659,\n 'afgift': 660,\n 'afgiftsanalys': 661,\n 'afgiftsbelag': 662,\n 'afgiftsbelastning': 663,\n 'afgiftsbelæg': 664,\n 'afgiftsbetaling': 665,\n 'afgiftsforhøj': 666,\n 'afgiftsforslag': 667,\n 'afgiftsforøg': 668,\n 'afgiftsfri': 669,\n 'afgiftsfritag': 670,\n 'afgiftsgrundlag': 671,\n 'afgiftslemp': 672,\n 'afgiftslet': 673,\n 'afgiftslov': 674,\n 'afgiftslovgivning': 675,\n 'afgiftsmodel': 676,\n 'afgiftsmæs': 677,\n 'afgiftsnedsæt': 678,\n 'afgiftsniveau': 679,\n 'afgiftsomlægning': 680,\n 'afgiftsområd': 681,\n 'afgiftspak': 682,\n 'afgiftsplig': 683,\n 'afgiftspolitik': 684,\n 'afgiftspålæg': 685,\n 'afgiftsregl': 686,\n 'afgiftssat': 687,\n 'afgiftssats': 688,\n 'afgiftsskru': 689,\n 'afgiftsstigning': 690,\n 'afgiftsstruktur': 691,\n 'afgiftssystem': 692,\n 'afgiftstryk': 693,\n 'afgiftsændring': 694,\n 'afgik': 695,\n 'afgiv': 696,\n 'afgiverland': 697,\n 'afgivn': 698,\n 'afgjord': 699,\n 'afgjort': 700,\n 'afgrening': 701,\n 'afgrund': 702,\n 'afgrundsdyb': 703,\n 'afgræns': 704,\n 'afgrænsed': 705,\n 'afgrænsning': 706,\n 'afgrænsningsproblem': 707,\n 'afgræs': 708,\n 'afgræsning': 709,\n 'afgrød': 710,\n 'afgå': 711,\n 'afgåed': 712,\n 'afgår': 713,\n 'afgørelseskompetenc': 714,\n 'afhandling': 715,\n 'afhent': 716,\n 'afhentning': 717,\n 'afhjulp': 718,\n 'afhjælp': 719,\n 'afhjælpning': 720,\n 'afhold': 721,\n 'afhænd': 722,\n 'afhæng': 723,\n 'afhængighedsforhold': 724,\n 'afhængighedsskab': 725,\n 'afhør': 726,\n 'afhøring': 727,\n 'afhørt': 728,\n 'afkald': 729,\n 'afkast': 730,\n 'afklar': 731,\n 'afklared': 732,\n 'afklaring': 733,\n 'afklaringsforløb': 734,\n 'afklæd': 735,\n 'afkobl': 736,\n 'afkod': 737,\n 'afkort': 738,\n 'afkorted': 739,\n 'afkortning': 740,\n 'afkriminalis': 741,\n 'afkriminalisering': 742,\n 'afkrog': 743,\n 'afkræft': 744,\n 'afkræv': 745,\n 'aflad': 746,\n 'aflag': 747,\n 'aflast': 748,\n 'aflastning': 749,\n 'afled': 750,\n 'afledning': 751,\n 'afledningsmanøvr': 752,\n 'aflev': 753,\n 'aflevering': 754,\n 'afliv': 755,\n 'aflivning': 756,\n 'aflys': 757,\n 'aflysning': 758,\n 'aflyst': 759,\n 'aflyt': 760,\n 'aflytning': 761,\n 'aflåst': 762,\n 'aflæg': 763,\n 'aflæs': 764,\n 'afløb': 765,\n 'afløn': 766,\n 'aflønning': 767,\n 'aflønningsform': 768,\n 'afløs': 769,\n 'afløsning': 770,\n 'afløst': 771,\n 'afmag': 772,\n 'afmarch': 773,\n 'afmatning': 774,\n 'afmeld': 775,\n 'afmont': 776,\n 'afmålt': 777,\n 'afmæg': 778,\n 'afpas': 779,\n 'afpres': 780,\n 'afpresning': 781,\n 'afprøv': 782,\n 'afprøved': 783,\n 'afprøvning': 784,\n 'afrapport': 785,\n 'afrapportering': 786,\n 'afregn': 787,\n 'afregning': 788,\n 'afregningspris': 789,\n 'afregningssystem': 790,\n 'afregul': 791,\n 'afregulering': 792,\n 'afrens': 793,\n 'afrika': 794,\n 'afrikan': 795,\n 'afrikansk': 796,\n 'afrund': 797,\n 'afrunding': 798,\n 'afs': 799,\n 'afsag': 800,\n 'afsat': 801,\n 'afsavn': 802,\n 'afsavnsmetod': 803,\n 'afsavnsundersøg': 804,\n 'afsend': 805,\n 'afsig': 806,\n 'afsind': 807,\n 'afskaf': 808,\n 'afskaffed': 809,\n 'afsked': 810,\n 'afskedig': 811,\n 'afskediged': 812,\n 'afskrev': 813,\n 'afskrift': 814,\n 'afskriv': 815,\n 'afskrivning': 816,\n 'afskrivningsregl': 817,\n 'afskræk': 818,\n 'afsky': 819,\n 'afskygning': 820,\n 'afskår': 821,\n 'afskær': 822,\n 'afskærm': 823,\n 'afskærmning': 824,\n 'afslag': 825,\n 'afslap': 826,\n 'afslut': 827,\n 'afslutning': 828,\n 'afslutningsdebat': 829,\n 'afslutningsvis': 830,\n 'afslutted': 831,\n 'afslå': 832,\n 'afslør': 833,\n 'afsløred': 834,\n 'afsløring': 835,\n 'afsmeltning': 836,\n 'afsmit': 837,\n 'afsmitning': 838,\n 'afsnit': 839,\n 'afson': 840,\n 'afsondr': 841,\n 'afsoned': 842,\n 'afsoning': 843,\n 'afsoningsform': 844,\n 'afspecialisering': 845,\n 'afspejl': 846,\n 'afspejled': 847,\n 'afspejling': 848,\n 'afspil': 849,\n 'afspor': 850,\n 'afspænding': 851,\n 'afstamning': 852,\n 'afstand': 853,\n 'afstandskrav': 854,\n 'afstandtag': 855,\n 'afsted': 856,\n 'afstedkom': 857,\n 'afstem': 858,\n 'afstemning': 859,\n 'afstemningsresultat': 860,\n 'afstemningssted': 861,\n 'afstemningstema': 862,\n 'afstemt': 863,\n 'afstraf': 864,\n 'afstump': 865,\n 'afstumped': 866,\n 'afstå': 867,\n 'afstår': 868,\n 'afsværg': 869,\n 'afsæt': 870,\n 'afsætning': 871,\n 'afsætningsmu': 872,\n 'afsøg': 873,\n 'aft': 874,\n 'aftag': 875,\n 'aftalebas': 876,\n 'aftalebrud': 877,\n 'aftaleforhold': 878,\n 'aftalefri': 879,\n 'aftalegrundlag': 880,\n 'aftaleindgå': 881,\n 'aftalekomplek': 882,\n 'aftalekompleks': 883,\n 'aftalekred': 884,\n 'aftalekreds': 885,\n 'aftalelicenssystem': 886,\n 'aftalelov': 887,\n 'aftalemodel': 888,\n 'aftalepart': 889,\n 'aftaleparti': 890,\n 'aftalepartn': 891,\n 'aftaleperiod': 892,\n 'aftaleret': 893,\n 'aftaleskits': 894,\n 'aftalesystem': 895,\n 'aftaletekst': 896,\n 'aftaleudkast': 897,\n 'aftalt': 898,\n 'aften': 899,\n 'aftenskol': 900,\n 'aftensmad': 901,\n 'aftentim': 902,\n 'aftj': 903,\n 'aftrap': 904,\n 'aftrapning': 905,\n 'aftryk': 906,\n 'aftræk': 907,\n 'aftving': 908,\n 'afv': 909,\n 'afvand': 910,\n 'afvanding': 911,\n 'afvandingsformål': 912,\n 'afvandingskanal': 913,\n 'afvandring': 914,\n 'afveg': 915,\n 'afvej': 916,\n 'afvejning': 917,\n 'afveksl': 918,\n 'afvent': 919,\n 'afvented': 920,\n 'afvig': 921,\n 'afvikl': 922,\n 'afvikling': 923,\n 'afviklingsmekanism': 924,\n 'afvis': 925,\n 'afvisning': 926,\n 'afvist': 927,\n 'afvænning': 928,\n 'afværg': 929,\n 'afværgeforanstaltning': 930,\n 'afæsk': 931,\n 'agenda': 932,\n 'agent': 933,\n 'agentur': 934,\n 'ager': 935,\n 'agered': 936,\n 'agerhøn': 937,\n 'agersnap': 938,\n 'aggression': 939,\n 'aggressiv': 940,\n 'aggressivit': 941,\n 'aggressivt': 942,\n 'agit': 943,\n 'agt': 944,\n 'agted': 945,\n 'agterud': 946,\n 'agtværd': 947,\n 'agurk': 948,\n 'ah': 949,\n 'aha': 950,\n 'ahmed': 951,\n 'ahr': 952,\n 'ahrendts': 953,\n 'aid': 954,\n 'air': 955,\n 'airbnb': 956,\n 'ajour': 957,\n 'ajourfør': 958,\n 'ajourføring': 959,\n 'ajourført': 960,\n 'ak': 961,\n 'ak81': 962,\n 'akademi': 963,\n 'akademik': 964,\n 'akademis': 965,\n 'akademisering': 966,\n 'akademisk': 967,\n 'akdogan': 968,\n 'akf': 969,\n 'akilleshæl': 970,\n 'akkari': 971,\n 'akkord': 972,\n 'akkredit': 973,\n 'akkreditering': 974,\n 'akkrediteringssystem': 975,\n 'akkumul': 976,\n 'akkurat': 977,\n 'akp': 978,\n 'aks': 979,\n 'akt': 980,\n 'akti': 981,\n 'aktieavanc': 982,\n 'aktieindkomst': 983,\n 'aktiekurs': 984,\n 'aktiemajorit': 985,\n 'aktiemajoritet': 986,\n 'aktiemarked': 987,\n 'aktieomsætningsafgift': 988,\n 'aktieoption': 989,\n 'aktieoptionsprogram': 990,\n 'aktiepost': 991,\n 'aktieprogram': 992,\n 'aktieselskab': 993,\n 'aktieudbyt': 994,\n 'aktinds': 995,\n 'aktion': 996,\n 'aktionsgrup': 997,\n 'aktionær': 998,\n 'aktiv': 999,\n ...}"
     },
     "metadata": {},
     "execution_count": 216
    }
   ],
   "source": [
    "ae = dict(sorted({v: k for k, v in vocabulary.items()}.items()))\n",
    "for idx in indexes:\n",
    "    del ae[idx]\n",
    "\n",
    "voc_new = {word: idx for idx, word in enumerate(list(ae.values()))}\n",
    "voc_new\n",
    "#del dict(sorted({v: k for k, v in vocabulary.items()}.items()))[714]"
   ]
  },
  {
   "cell_type": "code",
   "execution_count": 169,
   "metadata": {},
   "outputs": [
    {
     "output_type": "execute_result",
     "data": {
      "text/plain": "['afgør',\n 'aftal',\n 'altså',\n 'alvor',\n 'ansvar',\n 'arbejd',\n 'baggrund',\n 'bedr',\n 'bedst',\n 'behandl',\n 'behandling',\n 'behov',\n 'bestemt',\n 'betyd',\n 'blev',\n 'borg',\n 'brug',\n 'brugt',\n 'båd',\n 'dag',\n 'danmark',\n 'dansk',\n 'debat',\n 'del',\n 'desvær',\n 'diskussion',\n 'diskut',\n 'drøft',\n 'egent',\n 'end',\n 'enhedslist',\n 'enig',\n 'enkelt',\n 'faktisk',\n 'fald',\n 'fast',\n 'find',\n 'fokus',\n 'folk',\n 'folkeparti',\n 'folketing',\n 'forbind',\n 'foretag',\n 'forhold',\n 'form',\n 'formand',\n 'formål',\n 'fornuft',\n 'forskel',\n 'forslag',\n 'forstå',\n 'forstår',\n 'forsøg',\n 'fortsat',\n 'forvent',\n 'frem',\n 'fremtid',\n 'fru',\n 'fuld',\n 'fuldstænd',\n 'fået',\n 'følg',\n 'før',\n 'først',\n 'gang',\n 'gansk',\n 'gennemfør',\n 'gern',\n 'giv',\n 'glad',\n 'glæd',\n 'god',\n 'grad',\n 'grund',\n 'gå',\n 'går',\n 'gæld',\n 'haft',\n 'handl',\n 'hel',\n 'hensyn',\n 'hjælp',\n 'hold',\n 'holdning',\n 'hr',\n 'hurt',\n 'hvert',\n 'hvilk',\n 'håb',\n 'hånd',\n 'høj',\n 'hør',\n 'hørt',\n 'ind',\n 'initiativ',\n 'interes',\n 'jam',\n 'kald',\n 'kend',\n 'kig',\n 'klar',\n 'klart',\n 'kom',\n 'konkr',\n 'konkret',\n 'konservativ',\n 'konstat',\n 'kort',\n 'kr',\n 'krav',\n 'lad',\n 'lagt',\n 'land',\n 'lang',\n 'lav',\n 'lev',\n 'lig',\n 'lov',\n 'lovforslag',\n 'lovgivning',\n 'lyd',\n 'læg',\n 'læs',\n 'løb',\n 'løs',\n 'løsning',\n 'men',\n 'mening',\n 'mennesk',\n 'minist',\n 'mul',\n 'måd',\n 'måt',\n 'naturligvis',\n 'netop',\n 'nuvær',\n 'nye',\n 'nævn',\n 'nævnt',\n 'nødt',\n 'nødvend',\n 'offent',\n 'områd',\n 'opfat',\n 'opgav',\n 'oplev',\n 'opmærksom',\n 'ord',\n 'ordfør',\n 'osv',\n 'overhoved',\n 'overvej',\n 'parti',\n 'peng',\n 'person',\n 'politik',\n 'politisk',\n 'positiv',\n 'problem',\n 'præcis',\n 'prøv',\n 'radikal',\n 'ram',\n 'regering',\n 'regl',\n 'rent',\n 'ret',\n 'rigt',\n 'rim',\n 'ræk',\n 'sag',\n 'sagd',\n 'sagt',\n 'samfund',\n 'saml',\n 'sammenhæng',\n 'samtid',\n 'sat',\n 'selvfølg',\n 'send',\n 'set',\n 'sf',\n 'sid',\n 'sidst',\n 'sig',\n 'sikr',\n 'simpelt',\n 'situation',\n 'skab',\n 'ske',\n 'sker',\n 'sket',\n 'skyld',\n 'slet',\n 'socialdemokrat',\n 'spørg',\n 'spørgsmål',\n 'start',\n 'sted',\n 'stem',\n 'stil',\n 'stort',\n 'stå',\n 'står',\n 'stør',\n 'støt',\n 'svar',\n 'svært',\n 'sær',\n 'sæt',\n 'sørg',\n 'tag',\n 'tak',\n 'tal',\n 'tid',\n 'tidspunk',\n 'tilfæld',\n 'ting',\n 'tror',\n 'tvivl',\n 'tænk',\n 'uans',\n 'ude',\n 'udfordring',\n 'udgangspunk',\n 'udtryk',\n 'udvikling',\n 'valg',\n 'vedtag',\n 'vej',\n 'vel',\n 'venstr',\n 'vid',\n 'vigt',\n 'virk',\n 'vis',\n 'vist',\n 'vurd',\n 'væk',\n 'vælg',\n 'væsent',\n 'yder',\n 'år',\n 'ændr',\n 'økonomisk',\n 'ønsk']"
     },
     "metadata": {},
     "execution_count": 169
    }
   ],
   "source": [
    "fuckfaces = [{v: k for k, v in vocabulary.items()}.get(x) for x in indexes]\n",
    "fuckfaces"
   ]
  },
  {
   "cell_type": "code",
   "execution_count": 154,
   "metadata": {},
   "outputs": [
    {
     "output_type": "stream",
     "name": "stdout",
     "text": "99.98634625887493 %"
    }
   ],
   "source": [
    "print(i/df.Dagsordenpunkt.nunique()*100, \"%\\r\", end='')\n",
    "print(i/df.Dagsordenpunkt.nunique()*100, \"%\\r\", end ='')"
   ]
  },
  {
   "cell_type": "code",
   "execution_count": 149,
   "metadata": {},
   "outputs": [
    {
     "output_type": "execute_result",
     "data": {
      "text/plain": "7324"
     },
     "metadata": {},
     "execution_count": 149
    }
   ],
   "source": [
    "df.Dagsordenpunkt.nunique()"
   ]
  },
  {
   "cell_type": "code",
   "execution_count": 145,
   "metadata": {},
   "outputs": [
    {
     "output_type": "execute_result",
     "data": {
      "text/plain": "<183347x25077 sparse matrix of type '<class 'numpy.int64'>'\n\twith 6819344 stored elements in Compressed Sparse Row format>"
     },
     "metadata": {},
     "execution_count": 145
    }
   ],
   "source": [
    "import scipy\n",
    "\n",
    "def delete_cols_csr(mat, indices):\n",
    "    \"\"\"\n",
    "    Remove the rows denoted by ``indices`` form the CSR sparse matrix ``mat``.\n",
    "    \"\"\"\n",
    "    if not isinstance(mat, scipy.sparse.csr_matrix):\n",
    "        raise ValueError(\"works only for CSR format -- use .tocsr() first\")\n",
    "    indices = list(indices)\n",
    "    mask = np.ones(mat.shape[1], dtype=bool)\n",
    "    mask[indices] = False\n",
    "    return mat[:,mask]\n",
    "\n",
    "delete_rows_csr(ged, indexes)"
   ]
  },
  {
   "cell_type": "code",
   "execution_count": 222,
   "metadata": {},
   "outputs": [
    {
     "output_type": "execute_result",
     "data": {
      "text/plain": "<183347x25222 sparse matrix of type '<class 'numpy.int64'>'\n\twith 10193231 stored elements in Compressed Sparse Row format>"
     },
     "metadata": {},
     "execution_count": 222
    }
   ],
   "source": [
    "X"
   ]
  },
  {
   "cell_type": "code",
   "execution_count": 223,
   "metadata": {},
   "outputs": [
    {
     "output_type": "execute_result",
     "data": {
      "text/plain": "{'danmark': 3910,\n 'land': 12374,\n 'lev': 12695,\n 'byg': 3389,\n 'rigt': 18102,\n 'samfund': 18479,\n 'foretagsom': 6541,\n 'opfindsom': 15527,\n 'købmandskab': 12280,\n 'skabt': 19101,\n 'trygt': 22340,\n 'gensid': 8071,\n 'tillid': 21765,\n 'respek': 17877,\n 'rim': 18106,\n 'bredest': 3139,\n 'skuldr': 19511,\n 'bær': 3477,\n 'størst': 20761,\n 'byrd': 3447,\n 'ting': 21922,\n 'bedr': 2133,\n 'selvfølg': 18795,\n 'prøv': 17162,\n 'træd': 22355,\n 'skridt': 19447,\n 'skil': 19313,\n 'betrag': 2602,\n 'ståend': 20724,\n 'smukt': 19741,\n 'billed': 2712,\n 'fyld': 7586,\n 'stolt': 20484,\n 'folkeslag': 6307,\n 'misund': 14245,\n 'fantastisk': 5685,\n 'bedst': 2144,\n 'sted': 20370,\n 'verd': 24263,\n 'regering': 17591,\n 'folketing': 6313,\n 'dansk': 3920,\n 'folk': 6259,\n 'entreprenant': 5271,\n 'ingeniør': 10206,\n 'idé': 9693,\n 'sat': 18645,\n 'system': 21135,\n 'produktion': 16986,\n 'håndværk': 9482,\n 'arbejd': 1506,\n 'ansæt': 1427,\n 'udvid': 23159,\n 'virksom': 24514,\n 'ansvarsfuld': 1420,\n 'skolelær': 19370,\n 'øje': 25121,\n 'bryd': 3231,\n 'ann': 1364,\n 'ahmed': 953,\n 'famili': 5634,\n 'sæt': 21215,\n 'ære': 25084,\n 'kæmp': 12243,\n 'indsat': 10062,\n 'giv': 8153,\n 'børn': 3508,\n 'solid': 19921,\n 'rygstød': 18296,\n 'tilvær': 21900,\n 'titusindvis': 21942,\n 'frivil': 7478,\n 'hel': 8799,\n 'brug': 3205,\n 'fritid': 7461,\n 'yde': 24882,\n 'ung': 23553,\n 'forening': 6509,\n 'hårdtarbejd': 9505,\n 'dag': 3838,\n 'yder': 24890,\n 'forskel': 6867,\n 'står': 20730,\n 'generation': 7936,\n 'nå': 15127,\n 'lang': 12486,\n 'fæl': 7614,\n 'ansvar': 1412,\n 'pligt': 16632,\n 'driv': 4459,\n 'vid': 24352,\n 'grøn': 8455,\n 'plet': 16630,\n 'klod': 11218,\n 'promil': 17067,\n 'jord': 10635,\n 'befolkning': 2157,\n '110': 27,\n 'stør': 20756,\n 'fortsat': 7064,\n 'hjemsted': 9056,\n 'harmonisk': 8711,\n 'håbefuld': 9454,\n 'lyk': 13128,\n 'kræv': 11973,\n 'skarpt': 19144,\n 'egn': 4815,\n 'styrk': 20716,\n 'svag': 20942,\n 'fast': 5719,\n 'fokus': 6254,\n 'mul': 14449,\n 'udfordring': 22859,\n 'midt': 13950,\n 'international': 10358,\n 'økonomisk': 25149,\n 'kris': 11879,\n 'udfordr': 22857,\n 'medvind': 13768,\n 'tid': 21603,\n 'afløst': 772,\n 'modvind': 14323,\n 'grib': 8297,\n 'dybt': 4557,\n 'find': 5968,\n 'frem': 7289,\n 'sikkert': 19040,\n 'storm': 20505,\n 'toppriorit': 22057,\n 'bring': 3161,\n 'mennesk': 13834,\n 'omkostning': 15377,\n 'ført': 7805,\n 'aktiv': 1001,\n 'krisepolitik': 11884,\n 'kraftfuld': 11779,\n 'politik': 16686,\n 'offensiv': 15264,\n 'senest': 18850,\n 'beslut': 2496,\n 'gennemfør': 7989,\n 'erhvervspak': 5356,\n 'små': 19753,\n 'mellemstor': 13810,\n 'mia': 13932,\n 'kr': 11776,\n 'begynd': 2208,\n 'vis': 24539,\n 'forsig': 6845,\n 'horisont': 9174,\n 'økonom': 25140,\n 'tør': 22589,\n 'efterhånd': 4730,\n 'spå': 20185,\n 'forny': 6782,\n 'vækst': 24710,\n 'sker': 19290,\n 'baggrund': 1912,\n 'års': 24991,\n 'kraft': 11778,\n 'brat': 3125,\n 'fald': 5622,\n 'ligeud': 12788,\n 'forbered': 6376,\n 'led': 12582,\n 'stig': 20429,\n 'uomgæng': 23631,\n 'sær': 21178,\n 'risiko': 18128,\n 'bid': 2678,\n 'hvert': 9398,\n 'job': 10577,\n 'går': 8525,\n 'tabt': 21291,\n 'ondt': 15473,\n 'arbejdsløs': 1563,\n 'overhoved': 16004,\n 'betråd': 2608,\n 'arbejdsmarked': 1574,\n 'først': 7788,\n 'tag': 21298,\n 'fæst': 7700,\n 'konsekvens': 11574,\n 'liv': 12852,\n 'accept': 518,\n 'risik': 18124,\n 'start': 20271,\n 'arbejdsliv': 1560,\n 'føl': 7756,\n 'nederlag': 14785,\n 'markant': 13554,\n 'initiativ': 10218,\n 'forebyg': 6471,\n 'ungdomsarbejdsløs': 23559,\n 'afsæt': 871,\n 'ekstraordinær': 4970,\n 'praktikplads': 16808,\n 'morg': 14383,\n 'fremlæg': 7322,\n 'udspil': 23086,\n '18': 107,\n 'år': 24976,\n 'gang': 7849,\n 'ungdomsuddan': 23580,\n 'tilknytning': 21752,\n 'uddan': 22716,\n 'værn': 24817,\n 'mål': 14555,\n '95': 469,\n 'pct': 16349,\n '2015': 218,\n 'klar': 11087,\n 'heldigvis': 8812,\n 'fint': 5981,\n 'sidst': 18973,\n 'skoletræt': 19395,\n 'rådvild': 18335,\n 'svær': 20994,\n 'motiv': 14410,\n 'løsning': 13370,\n 'praktik': 16800,\n 'ophold': 15568,\n 'ingenting': 10213,\n 'forsvar': 6960,\n 'efterlad': 4733,\n 'passivit': 16298,\n 'slip': 19638,\n 'klas': 11097,\n 'simpelth': 19054,\n 'sent': 18871,\n 'kurs': 12075,\n 'duk': 4521,\n 'jobcent': 10580,\n 'grundlæg': 8355,\n 'svigt': 20969,\n 'overlad': 16020,\n '15': 72,\n '17': 94,\n 'ald': 1056,\n 'relevant': 17774,\n 'aktivit': 1014,\n 'kommun': 11392,\n 'sikr': 19041,\n 'årig': 24988,\n 'efterlev': 4735,\n 'uddannelsesplan': 22764,\n 'nye': 15072,\n 'værktøj': 24815,\n 'sand': 18607,\n 'forældreansvar': 7152,\n 'understreg': 23469,\n 'omlæg': 15401,\n 'børnefamilieyd': 3519,\n 'udbetal': 22681,\n 'beskæftig': 2455,\n 'rum': 18231,\n 'anspor': 1403,\n 'virk': 24499,\n 'mød': 14610,\n 'fundamentalt': 7559,\n 'forandr': 6350,\n 'fart': 5700,\n 'udvikling': 23164,\n 'asi': 1752,\n 'forbi': 6379,\n 'europa': 5478,\n 'usa': 23697,\n 'positiv': 16754,\n 'vækstrat': 24750,\n 'trod': 22292,\n 'mist': 14228,\n 'genskab': 8073,\n 'tab': 21288,\n 'velstand': 24198,\n 'velfærd': 24129,\n 'indflyd': 9905,\n 'tryg': 22334,\n 'ultimativt': 23362,\n 'håb': 9452,\n 'fremtid': 7367,\n 'arved': 1739,\n 'ske': 19278,\n 'erobr': 5411,\n 'kamp': 10781,\n 'produktivit': 17014,\n '1990': 189,\n 'ern': 5407,\n 'produktivitet': 17015,\n 'voks': 24594,\n 'stort': 20524,\n 'set': 18922,\n 'oecd': 15261,\n 'konkurrenceevn': 11536,\n 'pres': 16832,\n 'løn': 13304,\n 'svar': 20953,\n 'interessant': 10348,\n 'skab': 19099,\n 'arbejdsplads': 1624,\n 'mod': 14261,\n 'kritisk': 11909,\n 'vej': 24062,\n 'båd': 3466,\n 'andr': 1278,\n 'forslag': 6928,\n 'vægt': 24703,\n 'ekstra': 4965,\n 'erhvervsbeskatning': 5313,\n 'øge': 25114,\n 'svæk': 20992,\n 'global': 8183,\n 'konkurrenc': 11534,\n 'klart': 11096,\n 'virksomhed': 24515,\n 'flyt': 6190,\n 'høj': 9550,\n 'skat': 19145,\n 'indkomst': 9977,\n 'stæk': 20733,\n 'virkelyst': 24506,\n 'tiltræk': 21886,\n 'dygt': 4562,\n 'rest': 17922,\n 'skær': 19564,\n 'tværtimod': 22494,\n 'kreativit': 11795,\n 'ide': 9654,\n 'gro': 8309,\n 'omstil': 15436,\n 'disciplin': 4244,\n 'vist': 24560,\n 'mestr': 13905,\n 'udbygged': 22709,\n 'søfartsnation': 21228,\n 'sejl': 18721,\n 'opbygged': 15494,\n 'avanc': 1873,\n 'industri': 10128,\n 'biotek': 2762,\n 'enzym': 5280,\n 'oven': 15891,\n 'fremstilling': 7356,\n 'fødevar': 7710,\n 'gik': 8145,\n 'vindmøl': 24471,\n 'vend': 24220,\n 'fordel': 6436,\n 'afvikling': 925,\n 'tillæg': 21782,\n 'kom': 11363,\n 'folketingsår': 6335,\n 'rådfør': 18315,\n 'vækstforum': 24722,\n 'afgør': 714,\n 'hold': 9117,\n 'mødt': 14617,\n 'sund': 20823,\n 'offent': 15266,\n 'økonomi': 25141,\n 'brugt': 3219,\n 'god': 8211,\n 'afdrag': 617,\n 'gæld': 8533,\n 'udgangspunk': 22873,\n 'styr': 20698,\n 'regning': 17686,\n 'betal': 2569,\n 'lagt': 12362,\n 'ødelæg': 25108,\n 'sats': 18648,\n 'målret': 14566,\n 'forudsætning': 7085,\n 'præcis': 17123,\n 'dér': 4644,\n 'sås': 21158,\n 'folkeskol': 6289,\n 'dernæst': 4097,\n 'videreuddan': 24397,\n 'opfat': 15524,\n 'turd': 22411,\n 'par': 16173,\n 'fordomsfrit': 6451,\n 'peng': 16380,\n 'pr': 16788,\n 'skoleelev': 19358,\n 'ressourc': 17903,\n 'modsvar': 14306,\n 'indholdsmæs': 9950,\n 'ambition': 1188,\n 'utilfredsstil': 23752,\n 'halvdel': 8614,\n 'tosproged': 22087,\n 'elev': 5011,\n 'tilstræk': 21848,\n 'læsefærd': 13271,\n 'bril': 3160,\n 'næs': 15167,\n '360': 325,\n 'grad': 8252,\n 'eftersyn': 4778,\n 'tredj': 22244,\n 'innovativ': 10251,\n 'forstå': 6951,\n 'forskningsbas': 6880,\n 'højteknologisk': 9589,\n 'ord': 15808,\n 'betydning': 2614,\n 'måd': 14553,\n 'produktionsform': 16993,\n 'produk': 16985,\n 'innovation': 10242,\n 'efterår': 4796,\n 'præsent': 17143,\n 'virksomhedsret': 24530,\n 'innovationsstrategi': 10250,\n 'fjerd': 6030,\n 'oplag': 15611,\n 'udnyt': 23005,\n 'områd': 15415,\n 'vækstmotor': 24736,\n 'skub': 19493,\n 'verdensøkonomi': 24291,\n 'fuld': 7528,\n 'vent': 24251,\n 'klimatopmød': 11194,\n 'københavn': 12268,\n 'styrkeposition': 20720,\n 'forspring': 6941,\n 'drag': 4404,\n 'skærp': 19568,\n 'bestik': 2522,\n 'tving': 22475,\n 'tæern': 22550,\n 'ræk': 18351,\n 'frugt': 7501,\n 'sid': 18954,\n 'opp': 15658,\n 'træet': 22359,\n 'blot': 2851,\n 'kina': 11016,\n 'eksportør': 4956,\n 'indi': 9955,\n 'hus': 9340,\n 'tredjestørst': 22253,\n 'fasthold': 5727,\n 'position': 16753,\n 'lanc': 12372,\n 'ambitiøs': 1190,\n 'erhvervsklimastrategi': 5336,\n 'grønt': 8463,\n 'rammebeting': 17387,\n 'klimateknologi': 11186,\n 'klimastrategi': 11185,\n 'sektor': 18745,\n 'omfat': 15350,\n 'eu': 5467,\n 'co2': 3759,\n 'kvotesystem': 12176,\n 'langs': 12495,\n 'strategi': 20590,\n 'forsyningssikker': 7003,\n 'plan': 16571,\n 'forplig': 6801,\n 'vedvar': 24060,\n 'energi': 5112,\n 'udgør': 22905,\n '30': 303,\n 'energiforbrug': 5131,\n '2020': 223,\n 'langsigted': 12496,\n 'fri': 7388,\n 'fossil': 7181,\n 'brændsl': 3251,\n 'kul': 11986,\n 'oli': 15297,\n 'naturga': 14722,\n 'klimakommission': 11153,\n 'rapport': 17411,\n 'forvent': 7120,\n 'modtag': 14312,\n 'engang': 5204,\n 'ind': 9812,\n 'folketingsvalg': 6332,\n 'oplæg': 15634,\n 'fossilfrit': 7184,\n 'lig': 12747,\n 'forrest': 6810,\n 'satsning': 18650,\n 'vigt': 24431,\n 'kølvand': 12300,\n 'udbyg': 22708,\n 'byggest': 3414,\n 'velfærdssamfund': 24153,\n 'ret': 17949,\n 'enkelt': 5231,\n 'rigest': 18081,\n 'finansi': 5901,\n 'foren': 6507,\n 'lyst': 13149,\n 'stå': 20723,\n 'ben': 2331,\n 'fællesskab': 7633,\n 'kernevelfærd': 10981,\n 'servic': 18891,\n 'varm': 23996,\n 'hånd': 9457,\n 'modgang': 14281,\n 'utryg': 23768,\n 'sygdom': 21031,\n 'sygdomsbehandling': 21032,\n 'central': 3645,\n 'kerneopgav': 10977,\n 'adgang': 537,\n 'behandling': 2217,\n 'syg': 21030,\n 'hård': 9498,\n 'indæd': 10169,\n 'sygehusvæs': 21070,\n 'borg': 3031,\n 'øget': 25118,\n 'valgfri': 23844,\n 'invest': 10395,\n 'udstyr': 23109,\n 'haft': 8590,\n 'kvalit': 12099,\n 'produktivitetsstigning': 17021,\n 'sundhedsvæs': 20894,\n 'kun': 12047,\n 'nedbring': 14773,\n 'ventelist': 24253,\n 'kræftpatient': 11964,\n 'hjertepatient': 9075,\n 'overlev': 16026,\n 'patient': 16314,\n 'tilfreds': 21717,\n 'indlæg': 10024,\n 'faktisk': 5609,\n 'undersøg': 23474,\n 'flot': 6132,\n 'forstærk': 6954,\n 'sundhedsområd': 20856,\n 'sik': 18994,\n 'én': 25102,\n 'tænk': 22554,\n 'specialis': 20016,\n 'højt': 9586,\n 'fag': 5568,\n 'alvor': 1177,\n 'allerbedst': 1108,\n 'fås': 7608,\n 'desvær': 4133,\n 'rund': 18239,\n 'gadehjørn': 7825,\n 'opbygning': 15495,\n 'stærk': 20736,\n 'miljø': 13996,\n '40': 341,\n 'topmod': 22050,\n 'sygehus': 21052,\n 'saml': 18530,\n 'special': 20010,\n 'aalborg': 485,\n 'århus': 24985,\n 'hospital': 9188,\n 'gødstrup': 8564,\n 'vest': 24301,\n 'herning': 8920,\n 'odens': 15257,\n 'hillerød': 8970,\n 'dertil': 4105,\n 'væsent': 24833,\n 'udbygning': 22710,\n 'modernisering': 14277,\n 'eksist': 4891,\n 'samt': 18591,\n 'psykiatrisk': 17180,\n 'byggeprojek': 3407,\n 'hertil': 8940,\n 'region': 17637,\n 'sjælland': 19093,\n 'plad': 16565,\n 'naturligvis': 14737,\n 'realis': 17456,\n 'sygehusstruktur': 21068,\n 'sind': 19057,\n 'nær': 15144,\n 'diabet': 4160,\n 'kør': 12322,\n 'tim': 21901,\n 'kontrol': 11662,\n 'barnebarn': 2051,\n 'hurt': 9337,\n 'læg': 13187,\n 'konstat': 11600,\n 'bræk': 3240,\n 'skadeklinik': 19104,\n 'ambulanc': 1193,\n 'lægebil': 13193,\n 'helikopt': 8826,\n 'forbedr': 6371,\n 'kvalitetsløft': 12110,\n 'opnår': 15657,\n 'sygehusbyggeri': 21055,\n 'åbent': 24949,\n 'effektivit': 4708,\n 'bestemt': 2520,\n '21': 246,\n 'året': 24981,\n 'fremmest': 7333,\n 'beløn': 2316,\n 'princip': 16859,\n 'simpel': 19052,\n 'fornuft': 6780,\n 'fredag': 7252,\n 'sundhedspak': 20860,\n 'fat': 5742,\n 'rod': 18178,\n 'danmarkskort': 3912,\n 'centrum': 3659,\n 'sygehusvæsen': 21071,\n 'sundhedsvæsen': 20895,\n 'indsats': 10063,\n 'følg': 7760,\n 'fremgang': 7308,\n 'kræftbehandling': 11956,\n 'dør': 4676,\n 'kræftplan': 11965,\n 'iii': 9720,\n 'velfærdsområd': 24147,\n 'plejehjemsbebo': 16621,\n 'omsorg': 15428,\n 'pas': 16280,\n 'brems': 3143,\n 'derimod': 4091,\n 'ansat': 1392,\n 'hjert': 9068,\n 'skolebestyr': 19349,\n 'gennemført': 7993,\n 'regl': 17670,\n 'tror': 22305,\n 'dagligdag': 3845,\n 'benspænd': 2343,\n 'vågn': 24693,\n 'tank': 21371,\n 'gen': 7914,\n 'medarbejd': 13663,\n 'mening': 13824,\n 'åren': 24980,\n 'bunk': 3327,\n 'velment': 24184,\n 'løs': 13362,\n 'problem': 16938,\n 'sagt': 18425,\n 'munter': 14479,\n 'løft': 13287,\n 'indrøm': 10056,\n 'vilj': 24452,\n 'konkr': 11529,\n 'handling': 8687,\n 'svært': 21001,\n 'hiv': 9003,\n 'regel': 17577,\n 'væddemål': 24699,\n 'ah': 951,\n 'altså': 1175,\n 'appel': 1492,\n 'lad': 12350,\n 'hensyn': 8883,\n 'grund': 8324,\n 'bevar': 2628,\n 'skyld': 19532,\n 'lær': 13238,\n 'sosu': 19973,\n 'assistent': 1769,\n 'pædagog': 17298,\n 'frihed': 7402,\n 'vuggestuebørn': 24665,\n '105': 21,\n 'konkret': 11530,\n 'gennemarbejded': 7984,\n 'forenkling': 6518,\n 'dagtilbud': 3885,\n 'ældr': 25049,\n 'handicapped': 8670,\n 'integration': 10296,\n 'million': 14077,\n 'kron': 11916,\n 'papirarbejd': 16164,\n '900': 461,\n 'mio': 14195,\n 'mentalt': 13868,\n 'hoved': 9210,\n 'hverdagsliv': 9396,\n 'stat': 20279,\n 'skidt': 19305,\n 'stund': 20692,\n 'tilsidesæt': 21818,\n 'intention': 10344,\n 'hverdag': 9394,\n 'ekspert': 4916,\n 'bed': 2128,\n 'livsbeting': 12861,\n 'gad': 7821,\n 'stræd': 20637,\n 'velfung': 24128,\n 'kriminalit': 11852,\n 'vold': 24613,\n 'berør': 2405,\n 'bekymring': 2282,\n 'bandekriminalit': 1983,\n 'meningsløs': 13830,\n 'præg': 17133,\n 'byer': 3383,\n 'oprust': 15695,\n 'politi': 16666,\n 'effektivt': 4710,\n 'rekruttering': 17760,\n 'band': 1976,\n 'reag': 17447,\n 'konsekvent': 11580,\n 'trist': 22283,\n 'eksempl': 4886,\n 'begå': 2209,\n 'antal': 1449,\n 'anmeld': 1356,\n 'grov': 8317,\n 'steg': 20380,\n 'selvstænd': 18831,\n 'forhold': 6629,\n 'især': 10489,\n 'passivt': 16299,\n 'livsforløb': 12864,\n 'pluds': 16638,\n 'gal': 7832,\n 'retning': 17957,\n 'forvandl': 7112,\n 'smuldr': 19743,\n 'belastning': 2289,\n 'ude': 22797,\n 'stop': 20487,\n 'fortabt': 7028,\n 'konstruktiv': 11609,\n 'kur': 12069,\n 'effektiv': 4700,\n 'ungdomskriminalit': 23568,\n 'simpelt': 19053,\n 'krav': 11792,\n 'afvej': 918,\n 'ryg': 18278,\n 'opgiv': 15549,\n 'skrå': 19474,\n 'bekymred': 2281,\n 'foreslår': 6526,\n 'sænkning': 21177,\n 'kriminel': 11875,\n 'lavald': 12544,\n '14': 60,\n 'slut': 19660,\n 'straf': 20527,\n 'barn': 2049,\n 'fortræd': 7057,\n 'nuet': 15032,\n 'omstænd': 15447,\n 'strafudmåling': 20567,\n 'medvirk': 13769,\n 'begår': 2211,\n 'samtid': 18595,\n 'ønsk': 25162,\n 'opbyg': 15493,\n 'korp': 11727,\n 'erfaring': 5296,\n 'blik': 2823,\n 'uddanned': 22717,\n 'dom': 4348,\n 'døm': 4673,\n 'sag': 18397,\n 'involv': 10428,\n 'institutionstyp': 10282,\n 'parat': 16203,\n 'politisk': 16717,\n 'løb': 13280,\n 'opret': 15684,\n 'centralt': 3658,\n 'tilsyn': 21855,\n 'samarbejd': 18450,\n 'gentag': 8081,\n 'tæt': 22567,\n 'lup': 13109,\n 'social': 19840,\n 'fang': 5676,\n 'sig': 18977,\n 'fung': 7560,\n 'bort': 3062,\n 'forestil': 6533,\n 'midlertid': 13948,\n 'ordning': 15837,\n 'tidshorisont': 21618,\n 'samled': 18532,\n 'del': 4000,\n 'ungdomskriminalitet': 23569,\n 'knyt': 11290,\n 'etnisk': 5466,\n 'grup': 8388,\n 'styrked': 20718,\n 'gern': 8108,\n 'overskyg': 16071,\n 'opnå': 15655,\n 'resultat': 17941,\n 'integrationsopgav': 10312,\n 'ukontrol': 23329,\n 'indvandring': 10153,\n 'folkeparti': 6278,\n 'fået': 7605,\n 'luft': 13059,\n 'før': 7774,\n 'integrationspolitik': 10316,\n 'tal': 21320,\n 'nydansk': 15069,\n 'eksplod': 4931,\n 'aktuel': 1028,\n 'ændr': 25076,\n 'glæd': 8201,\n 'kvind': 12150,\n 'indvandr': 10145,\n 'historisk': 8999,\n 'dimension': 4216,\n 'fair': 5601,\n 'udlændingepolitik': 22980,\n 'sovepud': 19976,\n 'agt': 946,\n 'såvel': 21160,\n 'udlændingelov': 22972,\n 'integrationslov': 10306,\n 'serviceeftersyn': 18894,\n 'lys': 13143,\n 'emn': 5090,\n 'berørt': 2409,\n 'behov': 2248,\n 'afbureaukratisering': 608,\n 'illustr': 9764,\n 'beslutsom': 2508,\n 'konfront': 11509,\n 'meld': 13787,\n '61': 399,\n 'vært': 24825,\n 'levetid': 12714,\n 'fn': 6221,\n 'klimakonferenc': 11155,\n 'overordent': 16045,\n 'vansk': 23954,\n 'opgav': 15541,\n 'aftal': 877,\n 'kræft': 11955,\n 'fejl': 5793,\n 'prøved': 17164,\n 'ihærd': 9718,\n 'arbejded': 1507,\n 'troed': 22294,\n 'absolut': 506,\n 'krystalklart': 11953,\n 'bind': 2734,\n 'begræns': 2203,\n 'menneskeskabt': 13860,\n 'opvarmning': 15796,\n 'højst': 9582,\n 'suc': 20800,\n 'end': 5095,\n 'afhæng': 724,\n 'enig': 5227,\n 'aktør': 1030,\n 'katalysator': 10921,\n 'forhandling': 6593,\n 'planlag': 16576,\n 'investering': 10396,\n 'ambitionsniveau': 1189,\n 'flok': 6124,\n 'globalt': 8194,\n 'omstilling': 15437,\n 'perspektiv': 16495,\n 'værtskab': 24828,\n 'udenrigspolitisk': 22834,\n 'nyer': 15073,\n 'allersenest': 1134,\n 'uger': 23281,\n 'indgå': 9939,\n 'drøft': 4486,\n 'præsident': 17145,\n 'rusland': 18260,\n 'premierminist': 16831,\n 'sydafrika': 21009,\n 'japan': 10533,\n 'brasili': 3123,\n 'europæisk': 5498,\n 'kolleg': 11338,\n 'regeringsled': 17614,\n 'person': 16458,\n 'engagement': 5203,\n 'klimaaftal': 11128,\n 'forudsat': 7079,\n 'bredt': 3142,\n 'alverd': 1176,\n 'parlament': 16226,\n 'positivt': 16757,\n 'måned': 14576,\n 'netop': 14868,\n 'klima': 11127,\n 'benyt': 2345,\n 'lej': 12639,\n 'tak': 21302,\n 'opposition': 15666,\n 'støt': 20764,\n 'ydet': 24906,\n 'klimadiplomati': 11135,\n 'udvis': 23205,\n 'strækning': 20639,\n 'decemb': 3976,\n 'mærk': 14594,\n 'usædvan': 23742,\n 'byd': 3380,\n 'interes': 10347,\n 'velkom': 24173,\n 'sal': 18432,\n 'anstreng': 1407,\n 'enestå': 5198,\n 'udstillingsvindu': 23102,\n 'formå': 6761,\n 'miljøven': 14061,\n 'energieffektiv': 5122,\n 'teknologi': 21453,\n 'front': 7489,\n 'fred': 7251,\n 'sikker': 18995,\n 'septemb': 18877,\n 'indført': 9927,\n 'flagdag': 6071,\n 'udsend': 23053,\n 'mark': 13553,\n 'årti': 25020,\n 'krig': 11828,\n 'konflik': 11494,\n 'frygt': 7508,\n 'nød': 15187,\n 'træk': 22364,\n 'armod': 1715,\n 'ufri': 23265,\n 'øjn': 25133,\n 'hjælp': 9085,\n 'mænd': 14592,\n 'hylded': 9440,\n 'tjenest': 21952,\n 'hjem': 9009,\n 'smuk': 19739,\n 'bidrog': 2684,\n 'tilkendegav': 21749,\n 'uvurder': 23803,\n 'indtryk': 10109,\n 'kort': 11743,\n 'besøg': 2561,\n 'soldat': 19915,\n 'afghanistan': 655,\n 'utro': 23765,\n 'uvæger': 23804,\n 'professionel': 17034,\n 'medmennesk': 13753,\n 'tilgang': 21729,\n 'ekstremt': 4980,\n 'far': 5687,\n 'opbakning': 15484,\n 'demokrati': 4051,\n 'stabilit': 20225,\n 'præsidentvalg': 17147,\n 'august': 1847,\n 'tvivl': 22478,\n 'nødt': 15205,\n 'bidrag': 2679,\n 'stabilt': 20229,\n 'afghan': 654,\n 'øjeblik': 25122,\n 'forlad': 6674,\n 'manuskript': 13524,\n 'uro': 23688,\n 'organisation': 15851,\n 'pris': 16879,\n 'bred': 3130,\n 'militær': 13986,\n 'genskabt': 8074,\n 'øverst': 25219,\n 'ledelsesmæs': 12591,\n 'lag': 12355,\n 'unik': 23599,\n 'chanc': 3670,\n 'forsvarschef': 6967,\n 'uans': 22618,\n 'handl': 8676,\n 'tema': 21497,\n 'finanskris': 5931,\n 'altoverskyg': 1173,\n 'ram': 17378,\n 'varetag': 23978,\n 'blev': 2821,\n ...}"
     },
     "metadata": {},
     "execution_count": 223
    }
   ],
   "source": [
    "vocabulary"
   ]
  },
  {
   "cell_type": "code",
   "execution_count": null,
   "metadata": {},
   "outputs": [],
   "source": []
  }
 ],
 "metadata": {
  "language_info": {
   "codemirror_mode": {
    "name": "ipython",
    "version": 3
   },
   "file_extension": ".py",
   "mimetype": "text/x-python",
   "name": "python",
   "nbconvert_exporter": "python",
   "pygments_lexer": "ipython3",
   "version": "3.8.2-final"
  },
  "orig_nbformat": 2,
  "kernelspec": {
   "name": "python38264bitmbmlcondaa4b050706db042628668a68cbbd77dd1",
   "display_name": "Python 3.8.2 64-bit ('mbml': conda)"
  }
 },
 "nbformat": 4,
 "nbformat_minor": 2
}
{
 "nbformat": 4,
 "nbformat_minor": 2,
 "metadata": {
  "language_info": {
   "name": "python",
   "codemirror_mode": {
    "name": "ipython",
    "version": 3
   },
   "version": "3.7.4-final"
  },
  "orig_nbformat": 2,
  "file_extension": ".py",
  "mimetype": "text/x-python",
  "name": "python",
  "npconvert_exporter": "python",
  "pygments_lexer": "ipython3",
  "version": 3,
  "kernelspec": {
   "name": "python3",
   "display_name": "Python 3"
  }
 },
 "cells": [
  {
   "cell_type": "code",
   "execution_count": 3,
   "metadata": {},
   "outputs": [],
   "source": [
    "import numpy as np\n",
    "import matplotlib.pyplot as plt\n",
    "\n",
    "sys.path.append('..')\n",
    "from src.data.make_dataset import df"
   ]
  },
  {
   "cell_type": "code",
   "execution_count": 4,
   "metadata": {},
   "outputs": [
    {
     "output_type": "execute_result",
     "data": {
      "text/plain": "                      Starttid                 Sluttid                   Navn  \\\n0      2009-10-06 12:00:32.623 2009-10-06 12:02:08.360  Niels Helveg Petersen   \n1      2009-10-06 12:02:08.360 2009-10-06 12:04:01.713                   None   \n2      2009-10-06 12:04:01.713 2009-10-06 12:11:14.713   Lars Løkke Rasmussen   \n3      2009-10-06 12:11:14.713 2009-10-06 12:14:49.713   Lars Løkke Rasmussen   \n4      2009-10-06 12:14:49.713 2009-10-06 12:19:47.713   Lars Løkke Rasmussen   \n...                        ...                     ...                    ...   \n332191 2016-09-06 19:48:51.097 2016-09-06 19:49:06.443         Christian Juhl   \n332192 2016-09-06 19:49:06.443 2016-09-06 19:50:15.783        Ole Birk Olesen   \n332193 2016-09-06 19:50:15.783 2016-09-06 19:50:51.963         Christian Juhl   \n332194 2016-09-06 19:50:51.963 2016-09-06 19:51:50.000         Christian Juhl   \n332195 2016-09-06 19:51:50.000 2016-09-06 19:52:32.023         Christian Juhl   \n\n                  Rolle                                              Tekst  \\\n0       aldersformanden  Mødet er åbnet.I henhold til grundloven er Fol...   \n1               formand  Jeg vil gerne takke for den tillid, som Tinget...   \n2              minister  Danmark er et godt land at leve i. Vi har bygg...   \n3              minister  Det er ikke den eneste mulighed, vi skal gribe...   \n4              minister  For det første – og helt afgørende: Vi skal ho...   \n...                 ...                                                ...   \n332191          formand  Tak til hr. Pelle Dragsted. Der er ikke nogen,...   \n332192           medlem  Jeg skal blot rette mig selv fra min ordførert...   \n332193          formand  Tak til hr. Ole Birk Olesen. Er der andre ordf...   \n332194          formand  Forhandlingen er åbnet. Jeg vil høre, om nogen...   \n332195          formand  Så er der ikke mere at foretage i dette møde.F...   \n\n       Parti  \n0        NaN  \n1        NaN  \n2        NaN  \n3        NaN  \n4        NaN  \n...      ...  \n332191   NaN  \n332192    LA  \n332193   NaN  \n332194   NaN  \n332195   NaN  \n\n[332196 rows x 6 columns]",
      "text/html": "<div>\n<style scoped>\n    .dataframe tbody tr th:only-of-type {\n        vertical-align: middle;\n    }\n\n    .dataframe tbody tr th {\n        vertical-align: top;\n    }\n\n    .dataframe thead th {\n        text-align: right;\n    }\n</style>\n<table border=\"1\" class=\"dataframe\">\n  <thead>\n    <tr style=\"text-align: right;\">\n      <th></th>\n      <th>Starttid</th>\n      <th>Sluttid</th>\n      <th>Navn</th>\n      <th>Rolle</th>\n      <th>Tekst</th>\n      <th>Parti</th>\n    </tr>\n  </thead>\n  <tbody>\n    <tr>\n      <th>0</th>\n      <td>2009-10-06 12:00:32.623</td>\n      <td>2009-10-06 12:02:08.360</td>\n      <td>Niels Helveg Petersen</td>\n      <td>aldersformanden</td>\n      <td>Mødet er åbnet.I henhold til grundloven er Fol...</td>\n      <td>NaN</td>\n    </tr>\n    <tr>\n      <th>1</th>\n      <td>2009-10-06 12:02:08.360</td>\n      <td>2009-10-06 12:04:01.713</td>\n      <td>None</td>\n      <td>formand</td>\n      <td>Jeg vil gerne takke for den tillid, som Tinget...</td>\n      <td>NaN</td>\n    </tr>\n    <tr>\n      <th>2</th>\n      <td>2009-10-06 12:04:01.713</td>\n      <td>2009-10-06 12:11:14.713</td>\n      <td>Lars Løkke Rasmussen</td>\n      <td>minister</td>\n      <td>Danmark er et godt land at leve i. Vi har bygg...</td>\n      <td>NaN</td>\n    </tr>\n    <tr>\n      <th>3</th>\n      <td>2009-10-06 12:11:14.713</td>\n      <td>2009-10-06 12:14:49.713</td>\n      <td>Lars Løkke Rasmussen</td>\n      <td>minister</td>\n      <td>Det er ikke den eneste mulighed, vi skal gribe...</td>\n      <td>NaN</td>\n    </tr>\n    <tr>\n      <th>4</th>\n      <td>2009-10-06 12:14:49.713</td>\n      <td>2009-10-06 12:19:47.713</td>\n      <td>Lars Løkke Rasmussen</td>\n      <td>minister</td>\n      <td>For det første – og helt afgørende: Vi skal ho...</td>\n      <td>NaN</td>\n    </tr>\n    <tr>\n      <th>...</th>\n      <td>...</td>\n      <td>...</td>\n      <td>...</td>\n      <td>...</td>\n      <td>...</td>\n      <td>...</td>\n    </tr>\n    <tr>\n      <th>332191</th>\n      <td>2016-09-06 19:48:51.097</td>\n      <td>2016-09-06 19:49:06.443</td>\n      <td>Christian Juhl</td>\n      <td>formand</td>\n      <td>Tak til hr. Pelle Dragsted. Der er ikke nogen,...</td>\n      <td>NaN</td>\n    </tr>\n    <tr>\n      <th>332192</th>\n      <td>2016-09-06 19:49:06.443</td>\n      <td>2016-09-06 19:50:15.783</td>\n      <td>Ole Birk Olesen</td>\n      <td>medlem</td>\n      <td>Jeg skal blot rette mig selv fra min ordførert...</td>\n      <td>LA</td>\n    </tr>\n    <tr>\n      <th>332193</th>\n      <td>2016-09-06 19:50:15.783</td>\n      <td>2016-09-06 19:50:51.963</td>\n      <td>Christian Juhl</td>\n      <td>formand</td>\n      <td>Tak til hr. Ole Birk Olesen. Er der andre ordf...</td>\n      <td>NaN</td>\n    </tr>\n    <tr>\n      <th>332194</th>\n      <td>2016-09-06 19:50:51.963</td>\n      <td>2016-09-06 19:51:50.000</td>\n      <td>Christian Juhl</td>\n      <td>formand</td>\n      <td>Forhandlingen er åbnet. Jeg vil høre, om nogen...</td>\n      <td>NaN</td>\n    </tr>\n    <tr>\n      <th>332195</th>\n      <td>2016-09-06 19:51:50.000</td>\n      <td>2016-09-06 19:52:32.023</td>\n      <td>Christian Juhl</td>\n      <td>formand</td>\n      <td>Så er der ikke mere at foretage i dette møde.F...</td>\n      <td>NaN</td>\n    </tr>\n  </tbody>\n</table>\n<p>332196 rows × 6 columns</p>\n</div>"
     },
     "metadata": {},
     "execution_count": 4
    }
   ],
   "source": [
    "df"
   ]
  },
  {
   "cell_type": "code",
   "execution_count": null,
   "metadata": {},
   "outputs": [],
   "source": []
  }
 ]
}
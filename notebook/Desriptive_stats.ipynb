{
 "cells": [
  {
   "cell_type": "code",
   "execution_count": 2,
   "metadata": {},
   "outputs": [],
   "source": [
    "import numpy as np\n",
    "import pandas as pd\n",
    "import matplotlib.pyplot as plt\n",
    "import seaborn as sns\n",
    "sns.set_style(\"whitegrid\")\n",
    "\n",
    "from scipy import stats\n",
    "\n",
    "sys.path.append('..')\n",
    "\n",
    "from src.features.build_features import df, X, X_tfidf"
   ]
  },
  {
   "cell_type": "code",
   "execution_count": 3,
   "metadata": {},
   "outputs": [
    {
     "output_type": "stream",
     "name": "stdout",
     "text": "The size of the cleaned data frame is (183347, 9). The 10 first observations is shown below:\n"
    },
    {
     "output_type": "execute_result",
     "data": {
      "text/plain": "                 Starttid                 Sluttid                  Navn  \\\n0 2009-10-06 12:04:01.713 2009-10-06 12:11:14.713  Lars Løkke Rasmussen   \n1 2009-10-06 12:11:14.713 2009-10-06 12:14:49.713  Lars Løkke Rasmussen   \n2 2009-10-06 12:14:49.713 2009-10-06 12:19:47.713  Lars Løkke Rasmussen   \n3 2009-10-06 12:19:47.713 2009-10-06 12:25:11.713  Lars Løkke Rasmussen   \n4 2009-10-06 12:25:11.713 2009-10-06 12:29:01.713  Lars Løkke Rasmussen   \n5 2009-10-06 12:29:01.713 2009-10-06 12:35:55.713  Lars Løkke Rasmussen   \n6 2009-10-06 12:35:55.713 2009-10-06 12:40:14.713  Lars Løkke Rasmussen   \n7 2009-10-06 12:40:14.713 2009-10-06 12:47:11.713  Lars Løkke Rasmussen   \n8 2009-10-06 12:47:11.713 2009-10-06 12:50:39.740  Lars Løkke Rasmussen   \n9 2009-10-07 13:04:25.897 2009-10-07 13:06:31.920       Bjarne Laustsen   \n\n      Rolle                                              Tekst  \\\n0  minister  Danmark er et godt land at leve i. Vi har bygg...   \n1  minister  Det er ikke den eneste mulighed, vi skal gribe...   \n2  minister  For det første – og helt afgørende: Vi skal ho...   \n3  minister  Velstand og vækst er i virkeligheden de to byg...   \n4  minister  Regeringen arbejder på hele velfærdsområdet me...   \n5  minister  Hvor det er friheden, der skal have bedre livs...   \n6  minister  Det er jo sådan set alvorlige emner, jeg her h...   \n7  minister  Danmark skal også være i front i kampen for fr...   \n8  minister  Før jeg afslutter min redegørelse, vil jeg ger...   \n9    medlem  Tak, hr. formand. Den sag, jeg vil bringe på b...   \n\n                              MeetingId Parti Regering  I_Regering  \n0  2A762CE9-E5C1-4C4C-A5B9-87994C68C257     V   0Lars1        True  \n1  2A762CE9-E5C1-4C4C-A5B9-87994C68C257     V   0Lars1        True  \n2  2A762CE9-E5C1-4C4C-A5B9-87994C68C257     V   0Lars1        True  \n3  2A762CE9-E5C1-4C4C-A5B9-87994C68C257     V   0Lars1        True  \n4  2A762CE9-E5C1-4C4C-A5B9-87994C68C257     V   0Lars1        True  \n5  2A762CE9-E5C1-4C4C-A5B9-87994C68C257     V   0Lars1        True  \n6  2A762CE9-E5C1-4C4C-A5B9-87994C68C257     V   0Lars1        True  \n7  2A762CE9-E5C1-4C4C-A5B9-87994C68C257     V   0Lars1        True  \n8  2A762CE9-E5C1-4C4C-A5B9-87994C68C257     V   0Lars1        True  \n9  4F214615-40FE-40F2-9726-D212854D78EC     S   0Lars1       False  ",
      "text/html": "<div>\n<style scoped>\n    .dataframe tbody tr th:only-of-type {\n        vertical-align: middle;\n    }\n\n    .dataframe tbody tr th {\n        vertical-align: top;\n    }\n\n    .dataframe thead th {\n        text-align: right;\n    }\n</style>\n<table border=\"1\" class=\"dataframe\">\n  <thead>\n    <tr style=\"text-align: right;\">\n      <th></th>\n      <th>Starttid</th>\n      <th>Sluttid</th>\n      <th>Navn</th>\n      <th>Rolle</th>\n      <th>Tekst</th>\n      <th>MeetingId</th>\n      <th>Parti</th>\n      <th>Regering</th>\n      <th>I_Regering</th>\n    </tr>\n  </thead>\n  <tbody>\n    <tr>\n      <th>0</th>\n      <td>2009-10-06 12:04:01.713</td>\n      <td>2009-10-06 12:11:14.713</td>\n      <td>Lars Løkke Rasmussen</td>\n      <td>minister</td>\n      <td>Danmark er et godt land at leve i. Vi har bygg...</td>\n      <td>2A762CE9-E5C1-4C4C-A5B9-87994C68C257</td>\n      <td>V</td>\n      <td>0Lars1</td>\n      <td>True</td>\n    </tr>\n    <tr>\n      <th>1</th>\n      <td>2009-10-06 12:11:14.713</td>\n      <td>2009-10-06 12:14:49.713</td>\n      <td>Lars Løkke Rasmussen</td>\n      <td>minister</td>\n      <td>Det er ikke den eneste mulighed, vi skal gribe...</td>\n      <td>2A762CE9-E5C1-4C4C-A5B9-87994C68C257</td>\n      <td>V</td>\n      <td>0Lars1</td>\n      <td>True</td>\n    </tr>\n    <tr>\n      <th>2</th>\n      <td>2009-10-06 12:14:49.713</td>\n      <td>2009-10-06 12:19:47.713</td>\n      <td>Lars Løkke Rasmussen</td>\n      <td>minister</td>\n      <td>For det første – og helt afgørende: Vi skal ho...</td>\n      <td>2A762CE9-E5C1-4C4C-A5B9-87994C68C257</td>\n      <td>V</td>\n      <td>0Lars1</td>\n      <td>True</td>\n    </tr>\n    <tr>\n      <th>3</th>\n      <td>2009-10-06 12:19:47.713</td>\n      <td>2009-10-06 12:25:11.713</td>\n      <td>Lars Løkke Rasmussen</td>\n      <td>minister</td>\n      <td>Velstand og vækst er i virkeligheden de to byg...</td>\n      <td>2A762CE9-E5C1-4C4C-A5B9-87994C68C257</td>\n      <td>V</td>\n      <td>0Lars1</td>\n      <td>True</td>\n    </tr>\n    <tr>\n      <th>4</th>\n      <td>2009-10-06 12:25:11.713</td>\n      <td>2009-10-06 12:29:01.713</td>\n      <td>Lars Løkke Rasmussen</td>\n      <td>minister</td>\n      <td>Regeringen arbejder på hele velfærdsområdet me...</td>\n      <td>2A762CE9-E5C1-4C4C-A5B9-87994C68C257</td>\n      <td>V</td>\n      <td>0Lars1</td>\n      <td>True</td>\n    </tr>\n    <tr>\n      <th>5</th>\n      <td>2009-10-06 12:29:01.713</td>\n      <td>2009-10-06 12:35:55.713</td>\n      <td>Lars Løkke Rasmussen</td>\n      <td>minister</td>\n      <td>Hvor det er friheden, der skal have bedre livs...</td>\n      <td>2A762CE9-E5C1-4C4C-A5B9-87994C68C257</td>\n      <td>V</td>\n      <td>0Lars1</td>\n      <td>True</td>\n    </tr>\n    <tr>\n      <th>6</th>\n      <td>2009-10-06 12:35:55.713</td>\n      <td>2009-10-06 12:40:14.713</td>\n      <td>Lars Løkke Rasmussen</td>\n      <td>minister</td>\n      <td>Det er jo sådan set alvorlige emner, jeg her h...</td>\n      <td>2A762CE9-E5C1-4C4C-A5B9-87994C68C257</td>\n      <td>V</td>\n      <td>0Lars1</td>\n      <td>True</td>\n    </tr>\n    <tr>\n      <th>7</th>\n      <td>2009-10-06 12:40:14.713</td>\n      <td>2009-10-06 12:47:11.713</td>\n      <td>Lars Løkke Rasmussen</td>\n      <td>minister</td>\n      <td>Danmark skal også være i front i kampen for fr...</td>\n      <td>2A762CE9-E5C1-4C4C-A5B9-87994C68C257</td>\n      <td>V</td>\n      <td>0Lars1</td>\n      <td>True</td>\n    </tr>\n    <tr>\n      <th>8</th>\n      <td>2009-10-06 12:47:11.713</td>\n      <td>2009-10-06 12:50:39.740</td>\n      <td>Lars Løkke Rasmussen</td>\n      <td>minister</td>\n      <td>Før jeg afslutter min redegørelse, vil jeg ger...</td>\n      <td>2A762CE9-E5C1-4C4C-A5B9-87994C68C257</td>\n      <td>V</td>\n      <td>0Lars1</td>\n      <td>True</td>\n    </tr>\n    <tr>\n      <th>9</th>\n      <td>2009-10-07 13:04:25.897</td>\n      <td>2009-10-07 13:06:31.920</td>\n      <td>Bjarne Laustsen</td>\n      <td>medlem</td>\n      <td>Tak, hr. formand. Den sag, jeg vil bringe på b...</td>\n      <td>4F214615-40FE-40F2-9726-D212854D78EC</td>\n      <td>S</td>\n      <td>0Lars1</td>\n      <td>False</td>\n    </tr>\n  </tbody>\n</table>\n</div>"
     },
     "metadata": {},
     "execution_count": 3
    }
   ],
   "source": [
    "print(f\"The size of the cleaned data frame is {df.shape}. The 10 first observations is shown below:\")\n",
    "df.head(10)"
   ]
  },
  {
   "cell_type": "code",
   "execution_count": 4,
   "metadata": {},
   "outputs": [
    {
     "output_type": "execute_result",
     "data": {
      "text/plain": "Parti      ALT    DF    EL   KD    KF    LA   NA    RV      S    SF  UFG  \\\nRegering                                                                   \n0Lars1       0  5798  4015  143  6361  1059  190  3083  10383  5911  294   \nHelle1       0  7856  6193    0  2988  4027  313  4603  11324  5300   15   \nHelle2      12  3685  3661    0  1513  1931  275  2888   6899  2243   77   \nLars2     2351  4345  5503    0  1490  2248  572  1712   5103  2322   50   \nLars3     1155  2581  2328    0  1183  2216  105   880   3131  1213   28   \n\nParti         V  \nRegering         \n0Lars1    12631  \nHelle1    10288  \nHelle2     4799  \nLars2      8346  \nLars3      3143  ",
      "text/html": "<div>\n<style scoped>\n    .dataframe tbody tr th:only-of-type {\n        vertical-align: middle;\n    }\n\n    .dataframe tbody tr th {\n        vertical-align: top;\n    }\n\n    .dataframe thead th {\n        text-align: right;\n    }\n</style>\n<table border=\"1\" class=\"dataframe\">\n  <thead>\n    <tr style=\"text-align: right;\">\n      <th>Parti</th>\n      <th>ALT</th>\n      <th>DF</th>\n      <th>EL</th>\n      <th>KD</th>\n      <th>KF</th>\n      <th>LA</th>\n      <th>NA</th>\n      <th>RV</th>\n      <th>S</th>\n      <th>SF</th>\n      <th>UFG</th>\n      <th>V</th>\n    </tr>\n    <tr>\n      <th>Regering</th>\n      <th></th>\n      <th></th>\n      <th></th>\n      <th></th>\n      <th></th>\n      <th></th>\n      <th></th>\n      <th></th>\n      <th></th>\n      <th></th>\n      <th></th>\n      <th></th>\n    </tr>\n  </thead>\n  <tbody>\n    <tr>\n      <th>0Lars1</th>\n      <td>0</td>\n      <td>5798</td>\n      <td>4015</td>\n      <td>143</td>\n      <td>6361</td>\n      <td>1059</td>\n      <td>190</td>\n      <td>3083</td>\n      <td>10383</td>\n      <td>5911</td>\n      <td>294</td>\n      <td>12631</td>\n    </tr>\n    <tr>\n      <th>Helle1</th>\n      <td>0</td>\n      <td>7856</td>\n      <td>6193</td>\n      <td>0</td>\n      <td>2988</td>\n      <td>4027</td>\n      <td>313</td>\n      <td>4603</td>\n      <td>11324</td>\n      <td>5300</td>\n      <td>15</td>\n      <td>10288</td>\n    </tr>\n    <tr>\n      <th>Helle2</th>\n      <td>12</td>\n      <td>3685</td>\n      <td>3661</td>\n      <td>0</td>\n      <td>1513</td>\n      <td>1931</td>\n      <td>275</td>\n      <td>2888</td>\n      <td>6899</td>\n      <td>2243</td>\n      <td>77</td>\n      <td>4799</td>\n    </tr>\n    <tr>\n      <th>Lars2</th>\n      <td>2351</td>\n      <td>4345</td>\n      <td>5503</td>\n      <td>0</td>\n      <td>1490</td>\n      <td>2248</td>\n      <td>572</td>\n      <td>1712</td>\n      <td>5103</td>\n      <td>2322</td>\n      <td>50</td>\n      <td>8346</td>\n    </tr>\n    <tr>\n      <th>Lars3</th>\n      <td>1155</td>\n      <td>2581</td>\n      <td>2328</td>\n      <td>0</td>\n      <td>1183</td>\n      <td>2216</td>\n      <td>105</td>\n      <td>880</td>\n      <td>3131</td>\n      <td>1213</td>\n      <td>28</td>\n      <td>3143</td>\n    </tr>\n  </tbody>\n</table>\n</div>"
     },
     "metadata": {},
     "execution_count": 4
    }
   ],
   "source": [
    "pivot = pd.pivot_table(df[['Parti','Regering']],values=None, index='Regering', columns='Parti', aggfunc=len, fill_value=0)\n",
    "pivot"
   ]
  },
  {
   "cell_type": "code",
   "execution_count": 22,
   "metadata": {},
   "outputs": [
    {
     "output_type": "execute_result",
     "data": {
      "text/plain": "Parti          ALT        DF        EL        KD        KF        LA  \\\nRegering                                                               \n0Lars1    0.000000  0.116267  0.080513  0.002868  0.127557  0.021236   \nHelle1    0.000000  0.148487  0.117054  0.000000  0.056476  0.076115   \nHelle2    0.000429  0.131687  0.130829  0.000000  0.054069  0.069006   \nLars2     0.069062  0.127636  0.161653  0.000000  0.043769  0.066036   \nLars3     0.064299  0.143684  0.129600  0.000000  0.065858  0.123365   \n\nParti           NA        RV         S        SF       UFG         V  \nRegering                                                              \n0Lars1    0.003810  0.061823  0.208210  0.118533  0.005896  0.253289  \nHelle1    0.005916  0.087002  0.214036  0.100176  0.000284  0.194454  \nHelle2    0.009827  0.103206  0.246543  0.080156  0.002752  0.171497  \nLars2     0.016803  0.050291  0.149903  0.068210  0.001469  0.245168  \nLars3     0.005845  0.048990  0.174303  0.067528  0.001559  0.174971  ",
      "text/html": "<div>\n<style scoped>\n    .dataframe tbody tr th:only-of-type {\n        vertical-align: middle;\n    }\n\n    .dataframe tbody tr th {\n        vertical-align: top;\n    }\n\n    .dataframe thead th {\n        text-align: right;\n    }\n</style>\n<table border=\"1\" class=\"dataframe\">\n  <thead>\n    <tr style=\"text-align: right;\">\n      <th>Parti</th>\n      <th>ALT</th>\n      <th>DF</th>\n      <th>EL</th>\n      <th>KD</th>\n      <th>KF</th>\n      <th>LA</th>\n      <th>NA</th>\n      <th>RV</th>\n      <th>S</th>\n      <th>SF</th>\n      <th>UFG</th>\n      <th>V</th>\n    </tr>\n    <tr>\n      <th>Regering</th>\n      <th></th>\n      <th></th>\n      <th></th>\n      <th></th>\n      <th></th>\n      <th></th>\n      <th></th>\n      <th></th>\n      <th></th>\n      <th></th>\n      <th></th>\n      <th></th>\n    </tr>\n  </thead>\n  <tbody>\n    <tr>\n      <th>0Lars1</th>\n      <td>0.000000</td>\n      <td>0.116267</td>\n      <td>0.080513</td>\n      <td>0.002868</td>\n      <td>0.127557</td>\n      <td>0.021236</td>\n      <td>0.003810</td>\n      <td>0.061823</td>\n      <td>0.208210</td>\n      <td>0.118533</td>\n      <td>0.005896</td>\n      <td>0.253289</td>\n    </tr>\n    <tr>\n      <th>Helle1</th>\n      <td>0.000000</td>\n      <td>0.148487</td>\n      <td>0.117054</td>\n      <td>0.000000</td>\n      <td>0.056476</td>\n      <td>0.076115</td>\n      <td>0.005916</td>\n      <td>0.087002</td>\n      <td>0.214036</td>\n      <td>0.100176</td>\n      <td>0.000284</td>\n      <td>0.194454</td>\n    </tr>\n    <tr>\n      <th>Helle2</th>\n      <td>0.000429</td>\n      <td>0.131687</td>\n      <td>0.130829</td>\n      <td>0.000000</td>\n      <td>0.054069</td>\n      <td>0.069006</td>\n      <td>0.009827</td>\n      <td>0.103206</td>\n      <td>0.246543</td>\n      <td>0.080156</td>\n      <td>0.002752</td>\n      <td>0.171497</td>\n    </tr>\n    <tr>\n      <th>Lars2</th>\n      <td>0.069062</td>\n      <td>0.127636</td>\n      <td>0.161653</td>\n      <td>0.000000</td>\n      <td>0.043769</td>\n      <td>0.066036</td>\n      <td>0.016803</td>\n      <td>0.050291</td>\n      <td>0.149903</td>\n      <td>0.068210</td>\n      <td>0.001469</td>\n      <td>0.245168</td>\n    </tr>\n    <tr>\n      <th>Lars3</th>\n      <td>0.064299</td>\n      <td>0.143684</td>\n      <td>0.129600</td>\n      <td>0.000000</td>\n      <td>0.065858</td>\n      <td>0.123365</td>\n      <td>0.005845</td>\n      <td>0.048990</td>\n      <td>0.174303</td>\n      <td>0.067528</td>\n      <td>0.001559</td>\n      <td>0.174971</td>\n    </tr>\n  </tbody>\n</table>\n</div>"
     },
     "metadata": {},
     "execution_count": 22
    }
   ],
   "source": [
    "pivot_frac = pivot.div(pivot.sum(axis=1).values, axis = 0)\n",
    "pivot_frac"
   ]
  },
  {
   "cell_type": "code",
   "execution_count": 25,
   "metadata": {},
   "outputs": [
    {
     "output_type": "stream",
     "name": "stdout",
     "text": "On all the text stop words has been removed and stemmning has been carried out. Afterwards the dimension is (183347, 25223). I.e. we have 25223 words in the vocabulary.\n"
    }
   ],
   "source": [
    "print(f\"On all the text stop words has been removed and stemmning has been carried out. Afterwards the dimension is {X.shape}. I.e. we have {X.shape[1]} words in the vocabulary.\")"
   ]
  }
 ],
 "metadata": {
  "language_info": {
   "codemirror_mode": {
    "name": "ipython",
    "version": 3
   },
   "file_extension": ".py",
   "mimetype": "text/x-python",
   "name": "python",
   "nbconvert_exporter": "python",
   "pygments_lexer": "ipython3",
   "version": "3.8.2-final"
  },
  "orig_nbformat": 2,
  "kernelspec": {
   "name": "python38264bitb058d929b27b455d98246d492ae5cc2b",
   "display_name": "Python 3.8.2 64-bit"
  }
 },
 "nbformat": 4,
 "nbformat_minor": 2
}
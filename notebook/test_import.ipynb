{
 "nbformat": 4,
 "nbformat_minor": 2,
 "metadata": {
  "language_info": {
   "name": "python",
   "codemirror_mode": {
    "name": "ipython",
    "version": 3
   },
   "version": "3.7.4-final"
  },
  "orig_nbformat": 2,
  "file_extension": ".py",
  "mimetype": "text/x-python",
  "name": "python",
  "npconvert_exporter": "python",
  "pygments_lexer": "ipython3",
  "version": 3,
  "kernelspec": {
   "name": "python3",
   "display_name": "Python 3"
  }
 },
 "cells": [
  {
   "cell_type": "code",
   "execution_count": 3,
   "metadata": {},
   "outputs": [],
   "source": [
    "import numpy as np\n",
    "import matplotlib.pyplot as plt\n",
    "\n",
    "sys.path.append('..')\n",
    "from src.features.build_features import df"
   ]
  },
  {
   "cell_type": "code",
   "execution_count": 4,
   "metadata": {},
   "outputs": [
    {
     "output_type": "execute_result",
     "data": {
      "text/plain": "                    Starttid                 Sluttid                   Navn  \\\n0    2009-10-06 12:00:32.623 2009-10-06 12:02:08.360  Niels Helveg Petersen   \n1    2009-10-06 12:02:08.360 2009-10-06 12:04:01.713                   None   \n2    2009-10-06 12:04:01.713 2009-10-06 12:11:14.713   Lars Løkke Rasmussen   \n3    2009-10-06 12:11:14.713 2009-10-06 12:14:49.713   Lars Løkke Rasmussen   \n4    2009-10-06 12:14:49.713 2009-10-06 12:19:47.713   Lars Løkke Rasmussen   \n...                      ...                     ...                    ...   \n9995 2009-12-01 14:56:51.433 2009-12-01 14:56:57.887           Bent Bøgsted   \n9996 2009-12-01 14:56:57.887 2009-12-01 14:58:23.310         Pernille Frahm   \n9997 2009-12-01 14:58:23.310 2009-12-01 14:58:28.293           Bent Bøgsted   \n9998 2009-12-01 14:58:28.293 2009-12-01 14:59:48.310        Marlene Harpsøe   \n9999 2009-12-01 14:59:48.310 2009-12-01 14:59:53.793           Bent Bøgsted   \n\n                Rolle                                              Tekst  \\\n0     aldersformanden  [mød, åbn, i, henhold, grundlov, folketing, fø...   \n1             formand  [jeg, gern, tak, tillid, ting, vis, genvælg, f...   \n2            minister  [danmark, land, lev, vi, byg, rigt, samfund, f...   \n3            minister  [det, mul, grib, for, verd, virk, mød, kris, f...   \n4            minister  [for, først, –, afgørende:, vi, hold, fast, an...   \n...               ...                                                ...   \n9995          formand                         [så, fru, pernil, frahm, ]   \n9996           medlem  [jeg, gern, vend, fru, marl, harpsø, arabisk, ...   \n9997          formand                                         [ordfør, ]   \n9998           medlem  [det, rigt, rigt, spørgsmål, stil, fru, pernil...   \n9999          formand  [det, tredj, spørgsmål, vent, rund, fru, perni...   \n\n                                 MeetingId Parti Regering  \n0     2A762CE9-E5C1-4C4C-A5B9-87994C68C257    RV   0Lars1  \n1     2A762CE9-E5C1-4C4C-A5B9-87994C68C257   NaN   0Lars1  \n2     2A762CE9-E5C1-4C4C-A5B9-87994C68C257     V   0Lars1  \n3     2A762CE9-E5C1-4C4C-A5B9-87994C68C257     V   0Lars1  \n4     2A762CE9-E5C1-4C4C-A5B9-87994C68C257     V   0Lars1  \n...                                    ...   ...      ...  \n9995  8A80745C-8CEC-4A0C-BAD3-5D84F141EC36    DF   0Lars1  \n9996  8A80745C-8CEC-4A0C-BAD3-5D84F141EC36    SF   0Lars1  \n9997  8A80745C-8CEC-4A0C-BAD3-5D84F141EC36    DF   0Lars1  \n9998  8A80745C-8CEC-4A0C-BAD3-5D84F141EC36    DF   0Lars1  \n9999  8A80745C-8CEC-4A0C-BAD3-5D84F141EC36    DF   0Lars1  \n\n[10000 rows x 8 columns]",
      "text/html": "<div>\n<style scoped>\n    .dataframe tbody tr th:only-of-type {\n        vertical-align: middle;\n    }\n\n    .dataframe tbody tr th {\n        vertical-align: top;\n    }\n\n    .dataframe thead th {\n        text-align: right;\n    }\n</style>\n<table border=\"1\" class=\"dataframe\">\n  <thead>\n    <tr style=\"text-align: right;\">\n      <th></th>\n      <th>Starttid</th>\n      <th>Sluttid</th>\n      <th>Navn</th>\n      <th>Rolle</th>\n      <th>Tekst</th>\n      <th>MeetingId</th>\n      <th>Parti</th>\n      <th>Regering</th>\n    </tr>\n  </thead>\n  <tbody>\n    <tr>\n      <th>0</th>\n      <td>2009-10-06 12:00:32.623</td>\n      <td>2009-10-06 12:02:08.360</td>\n      <td>Niels Helveg Petersen</td>\n      <td>aldersformanden</td>\n      <td>[mød, åbn, i, henhold, grundlov, folketing, fø...</td>\n      <td>2A762CE9-E5C1-4C4C-A5B9-87994C68C257</td>\n      <td>RV</td>\n      <td>0Lars1</td>\n    </tr>\n    <tr>\n      <th>1</th>\n      <td>2009-10-06 12:02:08.360</td>\n      <td>2009-10-06 12:04:01.713</td>\n      <td>None</td>\n      <td>formand</td>\n      <td>[jeg, gern, tak, tillid, ting, vis, genvælg, f...</td>\n      <td>2A762CE9-E5C1-4C4C-A5B9-87994C68C257</td>\n      <td>NaN</td>\n      <td>0Lars1</td>\n    </tr>\n    <tr>\n      <th>2</th>\n      <td>2009-10-06 12:04:01.713</td>\n      <td>2009-10-06 12:11:14.713</td>\n      <td>Lars Løkke Rasmussen</td>\n      <td>minister</td>\n      <td>[danmark, land, lev, vi, byg, rigt, samfund, f...</td>\n      <td>2A762CE9-E5C1-4C4C-A5B9-87994C68C257</td>\n      <td>V</td>\n      <td>0Lars1</td>\n    </tr>\n    <tr>\n      <th>3</th>\n      <td>2009-10-06 12:11:14.713</td>\n      <td>2009-10-06 12:14:49.713</td>\n      <td>Lars Løkke Rasmussen</td>\n      <td>minister</td>\n      <td>[det, mul, grib, for, verd, virk, mød, kris, f...</td>\n      <td>2A762CE9-E5C1-4C4C-A5B9-87994C68C257</td>\n      <td>V</td>\n      <td>0Lars1</td>\n    </tr>\n    <tr>\n      <th>4</th>\n      <td>2009-10-06 12:14:49.713</td>\n      <td>2009-10-06 12:19:47.713</td>\n      <td>Lars Løkke Rasmussen</td>\n      <td>minister</td>\n      <td>[for, først, –, afgørende:, vi, hold, fast, an...</td>\n      <td>2A762CE9-E5C1-4C4C-A5B9-87994C68C257</td>\n      <td>V</td>\n      <td>0Lars1</td>\n    </tr>\n    <tr>\n      <th>...</th>\n      <td>...</td>\n      <td>...</td>\n      <td>...</td>\n      <td>...</td>\n      <td>...</td>\n      <td>...</td>\n      <td>...</td>\n      <td>...</td>\n    </tr>\n    <tr>\n      <th>9995</th>\n      <td>2009-12-01 14:56:51.433</td>\n      <td>2009-12-01 14:56:57.887</td>\n      <td>Bent Bøgsted</td>\n      <td>formand</td>\n      <td>[så, fru, pernil, frahm, ]</td>\n      <td>8A80745C-8CEC-4A0C-BAD3-5D84F141EC36</td>\n      <td>DF</td>\n      <td>0Lars1</td>\n    </tr>\n    <tr>\n      <th>9996</th>\n      <td>2009-12-01 14:56:57.887</td>\n      <td>2009-12-01 14:58:23.310</td>\n      <td>Pernille Frahm</td>\n      <td>medlem</td>\n      <td>[jeg, gern, vend, fru, marl, harpsø, arabisk, ...</td>\n      <td>8A80745C-8CEC-4A0C-BAD3-5D84F141EC36</td>\n      <td>SF</td>\n      <td>0Lars1</td>\n    </tr>\n    <tr>\n      <th>9997</th>\n      <td>2009-12-01 14:58:23.310</td>\n      <td>2009-12-01 14:58:28.293</td>\n      <td>Bent Bøgsted</td>\n      <td>formand</td>\n      <td>[ordfør, ]</td>\n      <td>8A80745C-8CEC-4A0C-BAD3-5D84F141EC36</td>\n      <td>DF</td>\n      <td>0Lars1</td>\n    </tr>\n    <tr>\n      <th>9998</th>\n      <td>2009-12-01 14:58:28.293</td>\n      <td>2009-12-01 14:59:48.310</td>\n      <td>Marlene Harpsøe</td>\n      <td>medlem</td>\n      <td>[det, rigt, rigt, spørgsmål, stil, fru, pernil...</td>\n      <td>8A80745C-8CEC-4A0C-BAD3-5D84F141EC36</td>\n      <td>DF</td>\n      <td>0Lars1</td>\n    </tr>\n    <tr>\n      <th>9999</th>\n      <td>2009-12-01 14:59:48.310</td>\n      <td>2009-12-01 14:59:53.793</td>\n      <td>Bent Bøgsted</td>\n      <td>formand</td>\n      <td>[det, tredj, spørgsmål, vent, rund, fru, perni...</td>\n      <td>8A80745C-8CEC-4A0C-BAD3-5D84F141EC36</td>\n      <td>DF</td>\n      <td>0Lars1</td>\n    </tr>\n  </tbody>\n</table>\n<p>10000 rows × 8 columns</p>\n</div>"
     },
     "metadata": {},
     "execution_count": 4
    }
   ],
   "source": [
    "df"
   ]
  },
  {
   "cell_type": "code",
   "execution_count": null,
   "metadata": {},
   "outputs": [],
   "source": [
    "dict(zip(*np.unique(df['Tekst'][0], return_counts=True)))"
   ]
  }
 ]
}
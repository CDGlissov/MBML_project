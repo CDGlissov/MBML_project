{
 "cells": [
  {
   "cell_type": "code",
   "execution_count": 1,
   "metadata": {},
   "outputs": [],
   "source": [
    "import numpy as np\n",
    "import pandas as pd\n",
    "import matplotlib.pyplot as plt\n",
    "import seaborn as sns\n",
    "sns.set_style(\"whitegrid\")\n",
    "\n",
    "from scipy import stats\n",
    "\n",
    "sys.path.append('..')\n",
    "\n",
    "from src.features.build_features import df, vocabulary, X, X_tfidf"
   ]
  },
  {
   "cell_type": "code",
   "execution_count": 2,
   "metadata": {},
   "outputs": [
    {
     "output_type": "execute_result",
     "data": {
      "text/plain": "                 Starttid                 Sluttid                  Navn  \\\n0 2009-10-06 12:04:01.713 2009-10-06 12:11:14.713  Lars Løkke Rasmussen   \n1 2009-10-06 12:11:14.713 2009-10-06 12:14:49.713  Lars Løkke Rasmussen   \n2 2009-10-06 12:14:49.713 2009-10-06 12:19:47.713  Lars Løkke Rasmussen   \n3 2009-10-06 12:19:47.713 2009-10-06 12:25:11.713  Lars Løkke Rasmussen   \n4 2009-10-06 12:25:11.713 2009-10-06 12:29:01.713  Lars Løkke Rasmussen   \n\n      Rolle                                              Tekst  \\\n0  minister  Danmark er et godt land at leve i. Vi har bygg...   \n1  minister  Det er ikke den eneste mulighed, vi skal gribe...   \n2  minister  For det første – og helt afgørende: Vi skal ho...   \n3  minister  Velstand og vækst er i virkeligheden de to byg...   \n4  minister  Regeringen arbejder på hele velfærdsområdet me...   \n\n                              MeetingId Parti Regering  I_Regering  \n0  2A762CE9-E5C1-4C4C-A5B9-87994C68C257     V   0Lars1        True  \n1  2A762CE9-E5C1-4C4C-A5B9-87994C68C257     V   0Lars1        True  \n2  2A762CE9-E5C1-4C4C-A5B9-87994C68C257     V   0Lars1        True  \n3  2A762CE9-E5C1-4C4C-A5B9-87994C68C257     V   0Lars1        True  \n4  2A762CE9-E5C1-4C4C-A5B9-87994C68C257     V   0Lars1        True  ",
      "text/html": "<div>\n<style scoped>\n    .dataframe tbody tr th:only-of-type {\n        vertical-align: middle;\n    }\n\n    .dataframe tbody tr th {\n        vertical-align: top;\n    }\n\n    .dataframe thead th {\n        text-align: right;\n    }\n</style>\n<table border=\"1\" class=\"dataframe\">\n  <thead>\n    <tr style=\"text-align: right;\">\n      <th></th>\n      <th>Starttid</th>\n      <th>Sluttid</th>\n      <th>Navn</th>\n      <th>Rolle</th>\n      <th>Tekst</th>\n      <th>MeetingId</th>\n      <th>Parti</th>\n      <th>Regering</th>\n      <th>I_Regering</th>\n    </tr>\n  </thead>\n  <tbody>\n    <tr>\n      <th>0</th>\n      <td>2009-10-06 12:04:01.713</td>\n      <td>2009-10-06 12:11:14.713</td>\n      <td>Lars Løkke Rasmussen</td>\n      <td>minister</td>\n      <td>Danmark er et godt land at leve i. Vi har bygg...</td>\n      <td>2A762CE9-E5C1-4C4C-A5B9-87994C68C257</td>\n      <td>V</td>\n      <td>0Lars1</td>\n      <td>True</td>\n    </tr>\n    <tr>\n      <th>1</th>\n      <td>2009-10-06 12:11:14.713</td>\n      <td>2009-10-06 12:14:49.713</td>\n      <td>Lars Løkke Rasmussen</td>\n      <td>minister</td>\n      <td>Det er ikke den eneste mulighed, vi skal gribe...</td>\n      <td>2A762CE9-E5C1-4C4C-A5B9-87994C68C257</td>\n      <td>V</td>\n      <td>0Lars1</td>\n      <td>True</td>\n    </tr>\n    <tr>\n      <th>2</th>\n      <td>2009-10-06 12:14:49.713</td>\n      <td>2009-10-06 12:19:47.713</td>\n      <td>Lars Løkke Rasmussen</td>\n      <td>minister</td>\n      <td>For det første – og helt afgørende: Vi skal ho...</td>\n      <td>2A762CE9-E5C1-4C4C-A5B9-87994C68C257</td>\n      <td>V</td>\n      <td>0Lars1</td>\n      <td>True</td>\n    </tr>\n    <tr>\n      <th>3</th>\n      <td>2009-10-06 12:19:47.713</td>\n      <td>2009-10-06 12:25:11.713</td>\n      <td>Lars Løkke Rasmussen</td>\n      <td>minister</td>\n      <td>Velstand og vækst er i virkeligheden de to byg...</td>\n      <td>2A762CE9-E5C1-4C4C-A5B9-87994C68C257</td>\n      <td>V</td>\n      <td>0Lars1</td>\n      <td>True</td>\n    </tr>\n    <tr>\n      <th>4</th>\n      <td>2009-10-06 12:25:11.713</td>\n      <td>2009-10-06 12:29:01.713</td>\n      <td>Lars Løkke Rasmussen</td>\n      <td>minister</td>\n      <td>Regeringen arbejder på hele velfærdsområdet me...</td>\n      <td>2A762CE9-E5C1-4C4C-A5B9-87994C68C257</td>\n      <td>V</td>\n      <td>0Lars1</td>\n      <td>True</td>\n    </tr>\n  </tbody>\n</table>\n</div>"
     },
     "metadata": {},
     "execution_count": 2
    }
   ],
   "source": [
    "df.head()"
   ]
  },
  {
   "cell_type": "code",
   "execution_count": 10,
   "metadata": {},
   "outputs": [],
   "source": [
    "feature_word = [word for word, count in sorted(vocabulary.items(), key = lambda kv:(kv[1], kv[0]))]"
   ]
  },
  {
   "cell_type": "code",
   "execution_count": 3,
   "metadata": {},
   "outputs": [
    {
     "output_type": "execute_result",
     "data": {
      "text/plain": "<160444x23574 sparse matrix of type '<class 'numpy.int64'>'\n\twith 9014135 stored elements in Compressed Sparse Row format>"
     },
     "metadata": {},
     "execution_count": 3
    }
   ],
   "source": [
    "X"
   ]
  },
  {
   "cell_type": "code",
   "execution_count": null,
   "metadata": {},
   "outputs": [],
   "source": []
  }
 ],
 "metadata": {
  "language_info": {
   "name": "python",
   "codemirror_mode": {
    "name": "ipython",
    "version": 3
   },
   "version": "3.7.4-final"
  },
  "orig_nbformat": 2,
  "file_extension": ".py",
  "mimetype": "text/x-python",
  "name": "python",
  "npconvert_exporter": "python",
  "pygments_lexer": "ipython3",
  "version": 3,
  "kernelspec": {
   "name": "python3",
   "display_name": "Python 3"
  }
 },
 "nbformat": 4,
 "nbformat_minor": 2
}